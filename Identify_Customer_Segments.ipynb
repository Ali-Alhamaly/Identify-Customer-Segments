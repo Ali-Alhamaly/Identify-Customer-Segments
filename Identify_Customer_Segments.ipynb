{
 "cells": [
  {
   "cell_type": "markdown",
   "metadata": {},
   "source": [
    "# Project: Identify Customer Segments\n",
    "\n",
    "In this project, you will apply unsupervised learning techniques to identify segments of the population that form the core customer base for a mail-order sales company in Germany. These segments can then be used to direct marketing campaigns towards audiences that will have the highest expected rate of returns. The data that you will use has been provided by our partners at Bertelsmann Arvato Analytics, and represents a real-life data science task.\n",
    "\n",
    "This notebook will help you complete this task by providing a framework within which you will perform your analysis steps. In each step of the project, you will see some text describing the subtask that you will perform, followed by one or more code cells for you to complete your work. **Feel free to add additional code and markdown cells as you go along so that you can explore everything in precise chunks.** The code cells provided in the base template will outline only the major tasks, and will usually not be enough to cover all of the minor tasks that comprise it.\n",
    "\n",
    "It should be noted that while there will be precise guidelines on how you should handle certain tasks in the project, there will also be places where an exact specification is not provided. **There will be times in the project where you will need to make and justify your own decisions on how to treat the data.** These are places where there may not be only one way to handle the data. In real-life tasks, there may be many valid ways to approach an analysis task. One of the most important things you can do is clearly document your approach so that other scientists can understand the decisions you've made.\n",
    "\n",
    "At the end of most sections, there will be a Markdown cell labeled **Discussion**. In these cells, you will report your findings for the completed section, as well as document the decisions that you made in your approach to each subtask. **Your project will be evaluated not just on the code used to complete the tasks outlined, but also your communication about your observations and conclusions at each stage.**"
   ]
  },
  {
   "cell_type": "code",
   "execution_count": 1,
   "metadata": {},
   "outputs": [],
   "source": [
    "# import libraries here; add more as necessary\n",
    "import numpy as np\n",
    "import pandas as pd\n",
    "import matplotlib.pyplot as plt\n",
    "import seaborn as sns\n",
    "\n",
    "# magic word for producing visualizations in notebook\n",
    "%matplotlib inline"
   ]
  },
  {
   "cell_type": "markdown",
   "metadata": {},
   "source": [
    "### Step 0: Load the Data\n",
    "\n",
    "There are four files associated with this project (not including this one):\n",
    "\n",
    "- `Udacity_AZDIAS_Subset.csv`: Demographics data for the general population of Germany; 891211 persons (rows) x 85 features (columns).\n",
    "- `Udacity_CUSTOMERS_Subset.csv`: Demographics data for customers of a mail-order company; 191652 persons (rows) x 85 features (columns).\n",
    "- `Data_Dictionary.md`: Detailed information file about the features in the provided datasets.\n",
    "- `AZDIAS_Feature_Summary.csv`: Summary of feature attributes for demographics data; 85 features (rows) x 4 columns\n",
    "\n",
    "Each row of the demographics files represents a single person, but also includes information outside of individuals, including information about their household, building, and neighborhood. You will use this information to cluster the general population into groups with similar demographic properties. Then, you will see how the people in the customers dataset fit into those created clusters. The hope here is that certain clusters are over-represented in the customers data, as compared to the general population; those over-represented clusters will be assumed to be part of the core userbase. This information can then be used for further applications, such as targeting for a marketing campaign.\n",
    "\n",
    "To start off with, load in the demographics data for the general population into a pandas DataFrame, and do the same for the feature attributes summary. Note for all of the `.csv` data files in this project: they're semicolon (`;`) delimited, so you'll need an additional argument in your [`read_csv()`](https://pandas.pydata.org/pandas-docs/stable/generated/pandas.read_csv.html) call to read in the data properly. Also, considering the size of the main dataset, it may take some time for it to load completely.\n",
    "\n",
    "Once the dataset is loaded, it's recommended that you take a little bit of time just browsing the general structure of the dataset and feature summary file. You'll be getting deep into the innards of the cleaning in the first major step of the project, so gaining some general familiarity can help you get your bearings."
   ]
  },
  {
   "cell_type": "code",
   "execution_count": 2,
   "metadata": {},
   "outputs": [
    {
     "name": "stdout",
     "output_type": "stream",
     "text": [
      "AZDIAS_Feature_Summary.csv\n",
      "Data_Dictionary.md\n",
      "Identify_Customer_Segments.ipynb\n",
      "Udacity_AZDIAS_Subset.csv\n",
      "Udacity_CUSTOMERS_Subset.csv\n"
     ]
    }
   ],
   "source": [
    "!ls"
   ]
  },
  {
   "cell_type": "code",
   "execution_count": 3,
   "metadata": {},
   "outputs": [],
   "source": [
    "# Load in the general demographics data.\n",
    "azdias = pd.read_csv('Udacity_AZDIAS_Subset.csv',sep=';',)\n",
    "\n",
    "# Load in the feature summary file.\n",
    "feat_info = pd.read_csv('AZDIAS_Feature_Summary.csv',sep=';')"
   ]
  },
  {
   "cell_type": "code",
   "execution_count": 4,
   "metadata": {},
   "outputs": [
    {
     "name": "stdout",
     "output_type": "stream",
     "text": [
      "<class 'pandas.core.frame.DataFrame'>\n",
      "RangeIndex: 891221 entries, 0 to 891220\n",
      "Data columns (total 85 columns):\n",
      "AGER_TYP                 891221 non-null int64\n",
      "ALTERSKATEGORIE_GROB     891221 non-null int64\n",
      "ANREDE_KZ                891221 non-null int64\n",
      "CJT_GESAMTTYP            886367 non-null float64\n",
      "FINANZ_MINIMALIST        891221 non-null int64\n",
      "FINANZ_SPARER            891221 non-null int64\n",
      "FINANZ_VORSORGER         891221 non-null int64\n",
      "FINANZ_ANLEGER           891221 non-null int64\n",
      "FINANZ_UNAUFFAELLIGER    891221 non-null int64\n",
      "FINANZ_HAUSBAUER         891221 non-null int64\n",
      "FINANZTYP                891221 non-null int64\n",
      "GEBURTSJAHR              891221 non-null int64\n",
      "GFK_URLAUBERTYP          886367 non-null float64\n",
      "GREEN_AVANTGARDE         891221 non-null int64\n",
      "HEALTH_TYP               891221 non-null int64\n",
      "LP_LEBENSPHASE_FEIN      886367 non-null float64\n",
      "LP_LEBENSPHASE_GROB      886367 non-null float64\n",
      "LP_FAMILIE_FEIN          886367 non-null float64\n",
      "LP_FAMILIE_GROB          886367 non-null float64\n",
      "LP_STATUS_FEIN           886367 non-null float64\n",
      "LP_STATUS_GROB           886367 non-null float64\n",
      "NATIONALITAET_KZ         891221 non-null int64\n",
      "PRAEGENDE_JUGENDJAHRE    891221 non-null int64\n",
      "RETOURTYP_BK_S           886367 non-null float64\n",
      "SEMIO_SOZ                891221 non-null int64\n",
      "SEMIO_FAM                891221 non-null int64\n",
      "SEMIO_REL                891221 non-null int64\n",
      "SEMIO_MAT                891221 non-null int64\n",
      "SEMIO_VERT               891221 non-null int64\n",
      "SEMIO_LUST               891221 non-null int64\n",
      "SEMIO_ERL                891221 non-null int64\n",
      "SEMIO_KULT               891221 non-null int64\n",
      "SEMIO_RAT                891221 non-null int64\n",
      "SEMIO_KRIT               891221 non-null int64\n",
      "SEMIO_DOM                891221 non-null int64\n",
      "SEMIO_KAEM               891221 non-null int64\n",
      "SEMIO_PFLICHT            891221 non-null int64\n",
      "SEMIO_TRADV              891221 non-null int64\n",
      "SHOPPER_TYP              891221 non-null int64\n",
      "SOHO_KZ                  817722 non-null float64\n",
      "TITEL_KZ                 817722 non-null float64\n",
      "VERS_TYP                 891221 non-null int64\n",
      "ZABEOTYP                 891221 non-null int64\n",
      "ALTER_HH                 817722 non-null float64\n",
      "ANZ_PERSONEN             817722 non-null float64\n",
      "ANZ_TITEL                817722 non-null float64\n",
      "HH_EINKOMMEN_SCORE       872873 non-null float64\n",
      "KK_KUNDENTYP             306609 non-null float64\n",
      "W_KEIT_KIND_HH           783619 non-null float64\n",
      "WOHNDAUER_2008           817722 non-null float64\n",
      "ANZ_HAUSHALTE_AKTIV      798073 non-null float64\n",
      "ANZ_HH_TITEL             794213 non-null float64\n",
      "GEBAEUDETYP              798073 non-null float64\n",
      "KONSUMNAEHE              817252 non-null float64\n",
      "MIN_GEBAEUDEJAHR         798073 non-null float64\n",
      "OST_WEST_KZ              798073 non-null object\n",
      "WOHNLAGE                 798073 non-null float64\n",
      "CAMEO_DEUG_2015          792242 non-null object\n",
      "CAMEO_DEU_2015           792242 non-null object\n",
      "CAMEO_INTL_2015          792242 non-null object\n",
      "KBA05_ANTG1              757897 non-null float64\n",
      "KBA05_ANTG2              757897 non-null float64\n",
      "KBA05_ANTG3              757897 non-null float64\n",
      "KBA05_ANTG4              757897 non-null float64\n",
      "KBA05_BAUMAX             757897 non-null float64\n",
      "KBA05_GBZ                757897 non-null float64\n",
      "BALLRAUM                 797481 non-null float64\n",
      "EWDICHTE                 797481 non-null float64\n",
      "INNENSTADT               797481 non-null float64\n",
      "GEBAEUDETYP_RASTER       798066 non-null float64\n",
      "KKK                      770025 non-null float64\n",
      "MOBI_REGIO               757897 non-null float64\n",
      "ONLINE_AFFINITAET        886367 non-null float64\n",
      "REGIOTYP                 770025 non-null float64\n",
      "KBA13_ANZAHL_PKW         785421 non-null float64\n",
      "PLZ8_ANTG1               774706 non-null float64\n",
      "PLZ8_ANTG2               774706 non-null float64\n",
      "PLZ8_ANTG3               774706 non-null float64\n",
      "PLZ8_ANTG4               774706 non-null float64\n",
      "PLZ8_BAUMAX              774706 non-null float64\n",
      "PLZ8_HHZ                 774706 non-null float64\n",
      "PLZ8_GBZ                 774706 non-null float64\n",
      "ARBEIT                   794005 non-null float64\n",
      "ORTSGR_KLS9              794005 non-null float64\n",
      "RELAT_AB                 794005 non-null float64\n",
      "dtypes: float64(49), int64(32), object(4)\n",
      "memory usage: 578.0+ MB\n"
     ]
    }
   ],
   "source": [
    "# Check the structure of the data after it's loaded (e.g. print the number of\n",
    "# rows and columns, print the first few rows).\n",
    "\n",
    "azdias.info()\n"
   ]
  },
  {
   "cell_type": "code",
   "execution_count": 5,
   "metadata": {},
   "outputs": [
    {
     "data": {
      "text/html": [
       "<div>\n",
       "<style scoped>\n",
       "    .dataframe tbody tr th:only-of-type {\n",
       "        vertical-align: middle;\n",
       "    }\n",
       "\n",
       "    .dataframe tbody tr th {\n",
       "        vertical-align: top;\n",
       "    }\n",
       "\n",
       "    .dataframe thead th {\n",
       "        text-align: right;\n",
       "    }\n",
       "</style>\n",
       "<table border=\"1\" class=\"dataframe\">\n",
       "  <thead>\n",
       "    <tr style=\"text-align: right;\">\n",
       "      <th></th>\n",
       "      <th>AGER_TYP</th>\n",
       "      <th>ALTERSKATEGORIE_GROB</th>\n",
       "      <th>ANREDE_KZ</th>\n",
       "      <th>CJT_GESAMTTYP</th>\n",
       "      <th>FINANZ_MINIMALIST</th>\n",
       "      <th>FINANZ_SPARER</th>\n",
       "      <th>FINANZ_VORSORGER</th>\n",
       "      <th>FINANZ_ANLEGER</th>\n",
       "      <th>FINANZ_UNAUFFAELLIGER</th>\n",
       "      <th>FINANZ_HAUSBAUER</th>\n",
       "      <th>...</th>\n",
       "      <th>PLZ8_ANTG1</th>\n",
       "      <th>PLZ8_ANTG2</th>\n",
       "      <th>PLZ8_ANTG3</th>\n",
       "      <th>PLZ8_ANTG4</th>\n",
       "      <th>PLZ8_BAUMAX</th>\n",
       "      <th>PLZ8_HHZ</th>\n",
       "      <th>PLZ8_GBZ</th>\n",
       "      <th>ARBEIT</th>\n",
       "      <th>ORTSGR_KLS9</th>\n",
       "      <th>RELAT_AB</th>\n",
       "    </tr>\n",
       "  </thead>\n",
       "  <tbody>\n",
       "    <tr>\n",
       "      <th>0</th>\n",
       "      <td>-1</td>\n",
       "      <td>2</td>\n",
       "      <td>1</td>\n",
       "      <td>2.0</td>\n",
       "      <td>3</td>\n",
       "      <td>4</td>\n",
       "      <td>3</td>\n",
       "      <td>5</td>\n",
       "      <td>5</td>\n",
       "      <td>3</td>\n",
       "      <td>...</td>\n",
       "      <td>NaN</td>\n",
       "      <td>NaN</td>\n",
       "      <td>NaN</td>\n",
       "      <td>NaN</td>\n",
       "      <td>NaN</td>\n",
       "      <td>NaN</td>\n",
       "      <td>NaN</td>\n",
       "      <td>NaN</td>\n",
       "      <td>NaN</td>\n",
       "      <td>NaN</td>\n",
       "    </tr>\n",
       "    <tr>\n",
       "      <th>1</th>\n",
       "      <td>-1</td>\n",
       "      <td>1</td>\n",
       "      <td>2</td>\n",
       "      <td>5.0</td>\n",
       "      <td>1</td>\n",
       "      <td>5</td>\n",
       "      <td>2</td>\n",
       "      <td>5</td>\n",
       "      <td>4</td>\n",
       "      <td>5</td>\n",
       "      <td>...</td>\n",
       "      <td>2.0</td>\n",
       "      <td>3.0</td>\n",
       "      <td>2.0</td>\n",
       "      <td>1.0</td>\n",
       "      <td>1.0</td>\n",
       "      <td>5.0</td>\n",
       "      <td>4.0</td>\n",
       "      <td>3.0</td>\n",
       "      <td>5.0</td>\n",
       "      <td>4.0</td>\n",
       "    </tr>\n",
       "    <tr>\n",
       "      <th>2</th>\n",
       "      <td>-1</td>\n",
       "      <td>3</td>\n",
       "      <td>2</td>\n",
       "      <td>3.0</td>\n",
       "      <td>1</td>\n",
       "      <td>4</td>\n",
       "      <td>1</td>\n",
       "      <td>2</td>\n",
       "      <td>3</td>\n",
       "      <td>5</td>\n",
       "      <td>...</td>\n",
       "      <td>3.0</td>\n",
       "      <td>3.0</td>\n",
       "      <td>1.0</td>\n",
       "      <td>0.0</td>\n",
       "      <td>1.0</td>\n",
       "      <td>4.0</td>\n",
       "      <td>4.0</td>\n",
       "      <td>3.0</td>\n",
       "      <td>5.0</td>\n",
       "      <td>2.0</td>\n",
       "    </tr>\n",
       "    <tr>\n",
       "      <th>3</th>\n",
       "      <td>2</td>\n",
       "      <td>4</td>\n",
       "      <td>2</td>\n",
       "      <td>2.0</td>\n",
       "      <td>4</td>\n",
       "      <td>2</td>\n",
       "      <td>5</td>\n",
       "      <td>2</td>\n",
       "      <td>1</td>\n",
       "      <td>2</td>\n",
       "      <td>...</td>\n",
       "      <td>2.0</td>\n",
       "      <td>2.0</td>\n",
       "      <td>2.0</td>\n",
       "      <td>0.0</td>\n",
       "      <td>1.0</td>\n",
       "      <td>3.0</td>\n",
       "      <td>4.0</td>\n",
       "      <td>2.0</td>\n",
       "      <td>3.0</td>\n",
       "      <td>3.0</td>\n",
       "    </tr>\n",
       "    <tr>\n",
       "      <th>4</th>\n",
       "      <td>-1</td>\n",
       "      <td>3</td>\n",
       "      <td>1</td>\n",
       "      <td>5.0</td>\n",
       "      <td>4</td>\n",
       "      <td>3</td>\n",
       "      <td>4</td>\n",
       "      <td>1</td>\n",
       "      <td>3</td>\n",
       "      <td>2</td>\n",
       "      <td>...</td>\n",
       "      <td>2.0</td>\n",
       "      <td>4.0</td>\n",
       "      <td>2.0</td>\n",
       "      <td>1.0</td>\n",
       "      <td>2.0</td>\n",
       "      <td>3.0</td>\n",
       "      <td>3.0</td>\n",
       "      <td>4.0</td>\n",
       "      <td>6.0</td>\n",
       "      <td>5.0</td>\n",
       "    </tr>\n",
       "  </tbody>\n",
       "</table>\n",
       "<p>5 rows × 85 columns</p>\n",
       "</div>"
      ],
      "text/plain": [
       "   AGER_TYP  ALTERSKATEGORIE_GROB  ANREDE_KZ  CJT_GESAMTTYP  \\\n",
       "0        -1                     2          1            2.0   \n",
       "1        -1                     1          2            5.0   \n",
       "2        -1                     3          2            3.0   \n",
       "3         2                     4          2            2.0   \n",
       "4        -1                     3          1            5.0   \n",
       "\n",
       "   FINANZ_MINIMALIST  FINANZ_SPARER  FINANZ_VORSORGER  FINANZ_ANLEGER  \\\n",
       "0                  3              4                 3               5   \n",
       "1                  1              5                 2               5   \n",
       "2                  1              4                 1               2   \n",
       "3                  4              2                 5               2   \n",
       "4                  4              3                 4               1   \n",
       "\n",
       "   FINANZ_UNAUFFAELLIGER  FINANZ_HAUSBAUER  ...  PLZ8_ANTG1  PLZ8_ANTG2  \\\n",
       "0                      5                 3  ...         NaN         NaN   \n",
       "1                      4                 5  ...         2.0         3.0   \n",
       "2                      3                 5  ...         3.0         3.0   \n",
       "3                      1                 2  ...         2.0         2.0   \n",
       "4                      3                 2  ...         2.0         4.0   \n",
       "\n",
       "   PLZ8_ANTG3  PLZ8_ANTG4  PLZ8_BAUMAX  PLZ8_HHZ  PLZ8_GBZ  ARBEIT  \\\n",
       "0         NaN         NaN          NaN       NaN       NaN     NaN   \n",
       "1         2.0         1.0          1.0       5.0       4.0     3.0   \n",
       "2         1.0         0.0          1.0       4.0       4.0     3.0   \n",
       "3         2.0         0.0          1.0       3.0       4.0     2.0   \n",
       "4         2.0         1.0          2.0       3.0       3.0     4.0   \n",
       "\n",
       "   ORTSGR_KLS9  RELAT_AB  \n",
       "0          NaN       NaN  \n",
       "1          5.0       4.0  \n",
       "2          5.0       2.0  \n",
       "3          3.0       3.0  \n",
       "4          6.0       5.0  \n",
       "\n",
       "[5 rows x 85 columns]"
      ]
     },
     "execution_count": 5,
     "metadata": {},
     "output_type": "execute_result"
    }
   ],
   "source": [
    "azdias.head(5)"
   ]
  },
  {
   "cell_type": "code",
   "execution_count": 6,
   "metadata": {},
   "outputs": [
    {
     "data": {
      "text/plain": [
       "0    NaN\n",
       "1      W\n",
       "2      W\n",
       "3      W\n",
       "4      W\n",
       "5      W\n",
       "6      W\n",
       "7      W\n",
       "8      W\n",
       "9      W\n",
       "Name: OST_WEST_KZ, dtype: object"
      ]
     },
     "execution_count": 6,
     "metadata": {},
     "output_type": "execute_result"
    }
   ],
   "source": [
    "azdias['OST_WEST_KZ'].head(10)"
   ]
  },
  {
   "cell_type": "code",
   "execution_count": 7,
   "metadata": {},
   "outputs": [
    {
     "name": "stdout",
     "output_type": "stream",
     "text": [
      "<class 'pandas.core.frame.DataFrame'>\n",
      "RangeIndex: 85 entries, 0 to 84\n",
      "Data columns (total 4 columns):\n",
      "attribute             85 non-null object\n",
      "information_level     85 non-null object\n",
      "type                  85 non-null object\n",
      "missing_or_unknown    85 non-null object\n",
      "dtypes: object(4)\n",
      "memory usage: 2.7+ KB\n"
     ]
    }
   ],
   "source": [
    "feat_info.info()"
   ]
  },
  {
   "cell_type": "code",
   "execution_count": 8,
   "metadata": {},
   "outputs": [
    {
     "data": {
      "text/html": [
       "<div>\n",
       "<style scoped>\n",
       "    .dataframe tbody tr th:only-of-type {\n",
       "        vertical-align: middle;\n",
       "    }\n",
       "\n",
       "    .dataframe tbody tr th {\n",
       "        vertical-align: top;\n",
       "    }\n",
       "\n",
       "    .dataframe thead th {\n",
       "        text-align: right;\n",
       "    }\n",
       "</style>\n",
       "<table border=\"1\" class=\"dataframe\">\n",
       "  <thead>\n",
       "    <tr style=\"text-align: right;\">\n",
       "      <th></th>\n",
       "      <th>attribute</th>\n",
       "      <th>information_level</th>\n",
       "      <th>type</th>\n",
       "      <th>missing_or_unknown</th>\n",
       "    </tr>\n",
       "  </thead>\n",
       "  <tbody>\n",
       "    <tr>\n",
       "      <th>0</th>\n",
       "      <td>AGER_TYP</td>\n",
       "      <td>person</td>\n",
       "      <td>categorical</td>\n",
       "      <td>[-1,0]</td>\n",
       "    </tr>\n",
       "    <tr>\n",
       "      <th>1</th>\n",
       "      <td>ALTERSKATEGORIE_GROB</td>\n",
       "      <td>person</td>\n",
       "      <td>ordinal</td>\n",
       "      <td>[-1,0,9]</td>\n",
       "    </tr>\n",
       "    <tr>\n",
       "      <th>2</th>\n",
       "      <td>ANREDE_KZ</td>\n",
       "      <td>person</td>\n",
       "      <td>categorical</td>\n",
       "      <td>[-1,0]</td>\n",
       "    </tr>\n",
       "    <tr>\n",
       "      <th>3</th>\n",
       "      <td>CJT_GESAMTTYP</td>\n",
       "      <td>person</td>\n",
       "      <td>categorical</td>\n",
       "      <td>[0]</td>\n",
       "    </tr>\n",
       "    <tr>\n",
       "      <th>4</th>\n",
       "      <td>FINANZ_MINIMALIST</td>\n",
       "      <td>person</td>\n",
       "      <td>ordinal</td>\n",
       "      <td>[-1]</td>\n",
       "    </tr>\n",
       "    <tr>\n",
       "      <th>5</th>\n",
       "      <td>FINANZ_SPARER</td>\n",
       "      <td>person</td>\n",
       "      <td>ordinal</td>\n",
       "      <td>[-1]</td>\n",
       "    </tr>\n",
       "    <tr>\n",
       "      <th>6</th>\n",
       "      <td>FINANZ_VORSORGER</td>\n",
       "      <td>person</td>\n",
       "      <td>ordinal</td>\n",
       "      <td>[-1]</td>\n",
       "    </tr>\n",
       "    <tr>\n",
       "      <th>7</th>\n",
       "      <td>FINANZ_ANLEGER</td>\n",
       "      <td>person</td>\n",
       "      <td>ordinal</td>\n",
       "      <td>[-1]</td>\n",
       "    </tr>\n",
       "    <tr>\n",
       "      <th>8</th>\n",
       "      <td>FINANZ_UNAUFFAELLIGER</td>\n",
       "      <td>person</td>\n",
       "      <td>ordinal</td>\n",
       "      <td>[-1]</td>\n",
       "    </tr>\n",
       "    <tr>\n",
       "      <th>9</th>\n",
       "      <td>FINANZ_HAUSBAUER</td>\n",
       "      <td>person</td>\n",
       "      <td>ordinal</td>\n",
       "      <td>[-1]</td>\n",
       "    </tr>\n",
       "  </tbody>\n",
       "</table>\n",
       "</div>"
      ],
      "text/plain": [
       "               attribute information_level         type missing_or_unknown\n",
       "0               AGER_TYP            person  categorical             [-1,0]\n",
       "1   ALTERSKATEGORIE_GROB            person      ordinal           [-1,0,9]\n",
       "2              ANREDE_KZ            person  categorical             [-1,0]\n",
       "3          CJT_GESAMTTYP            person  categorical                [0]\n",
       "4      FINANZ_MINIMALIST            person      ordinal               [-1]\n",
       "5          FINANZ_SPARER            person      ordinal               [-1]\n",
       "6       FINANZ_VORSORGER            person      ordinal               [-1]\n",
       "7         FINANZ_ANLEGER            person      ordinal               [-1]\n",
       "8  FINANZ_UNAUFFAELLIGER            person      ordinal               [-1]\n",
       "9       FINANZ_HAUSBAUER            person      ordinal               [-1]"
      ]
     },
     "execution_count": 8,
     "metadata": {},
     "output_type": "execute_result"
    }
   ],
   "source": [
    "feat_info.head(10)"
   ]
  },
  {
   "cell_type": "code",
   "execution_count": 9,
   "metadata": {},
   "outputs": [
    {
     "data": {
      "text/plain": [
       "array(['[-1,0]', '[-1,0,9]', '[0]', '[-1]', '[]', '[-1,9]', '[-1,X]',\n",
       "       '[XX]', '[-1,XX]'], dtype=object)"
      ]
     },
     "execution_count": 9,
     "metadata": {},
     "output_type": "execute_result"
    }
   ],
   "source": [
    "pd.unique(feat_info['missing_or_unknown'])"
   ]
  },
  {
   "cell_type": "markdown",
   "metadata": {},
   "source": [
    "> **Tip**: Add additional cells to keep everything in reasonably-sized chunks! Keyboard shortcut `esc --> a` (press escape to enter command mode, then press the 'A' key) adds a new cell before the active cell, and `esc --> b` adds a new cell after the active cell. If you need to convert an active cell to a markdown cell, use `esc --> m` and to convert to a code cell, use `esc --> y`. \n",
    "\n",
    "## Step 1: Preprocessing\n",
    "\n",
    "### Step 1.1: Assess Missing Data\n",
    "\n",
    "The feature summary file contains a summary of properties for each demographics data column. You will use this file to help you make cleaning decisions during this stage of the project. First of all, you should assess the demographics data in terms of missing data. Pay attention to the following points as you perform your analysis, and take notes on what you observe. Make sure that you fill in the **Discussion** cell with your findings and decisions at the end of each step that has one!\n",
    "\n",
    "#### Step 1.1.1: Convert Missing Value Codes to NaNs\n",
    "The fourth column of the feature attributes summary (loaded in above as `feat_info`) documents the codes from the data dictionary that indicate missing or unknown data. While the file encodes this as a list (e.g. `[-1,0]`), this will get read in as a string object. You'll need to do a little bit of parsing to make use of it to identify and clean the data. Convert data that matches a 'missing' or 'unknown' value code into a numpy NaN value. You might want to see how much data takes on a 'missing' or 'unknown' code, and how much data is naturally missing, as a point of interest.\n",
    "\n",
    "**As one more reminder, you are encouraged to add additional cells to break up your analysis into manageable chunks.**"
   ]
  },
  {
   "cell_type": "code",
   "execution_count": 10,
   "metadata": {},
   "outputs": [],
   "source": [
    "# Identify missing or unknown data values and convert them to NaNs.\n",
    "\n",
    "def missing_to_nans(azdias,summary): \n",
    "    \n",
    "    # this takes teh azdias dataframe and the summary data frame and convert missing values to nans \n",
    "    #in azdias dataframe based on info in teh summary dataframe\n",
    "    \n",
    "    for col in range(azdias.shape[1]):\n",
    "        \n",
    "       \n",
    "        missing_list=summary.iloc[col]['missing_or_unknown'][1:-1].split(',')\n",
    "\n",
    "        # parse the missing list so that it can be used to assign nans. this jsut convert from string to integers and alpha\n",
    "        missing_list_parsed = []\n",
    "        for x in missing_list:\n",
    "            if x.lstrip('-').isnumeric():\n",
    "                \n",
    "                missing_list_parsed.append(int(x))\n",
    "            else:\n",
    "                missing_list_parsed.append(x)\n",
    "    \n",
    "        azdias.iloc[:,col].replace(missing_list_parsed,np.nan,inplace=True)\n",
    "    \n",
    "    \n",
    "    "
   ]
  },
  {
   "cell_type": "code",
   "execution_count": 11,
   "metadata": {},
   "outputs": [],
   "source": [
    "# convert missing to nans based on feat_info\n",
    "\n",
    "missing_to_nans(azdias,feat_info)"
   ]
  },
  {
   "cell_type": "code",
   "execution_count": 12,
   "metadata": {},
   "outputs": [
    {
     "name": "stdout",
     "output_type": "stream",
     "text": [
      "<class 'pandas.core.frame.DataFrame'>\n",
      "RangeIndex: 891221 entries, 0 to 891220\n",
      "Data columns (total 85 columns):\n",
      "AGER_TYP                 205378 non-null float64\n",
      "ALTERSKATEGORIE_GROB     888340 non-null float64\n",
      "ANREDE_KZ                891221 non-null int64\n",
      "CJT_GESAMTTYP            886367 non-null float64\n",
      "FINANZ_MINIMALIST        891221 non-null int64\n",
      "FINANZ_SPARER            891221 non-null int64\n",
      "FINANZ_VORSORGER         891221 non-null int64\n",
      "FINANZ_ANLEGER           891221 non-null int64\n",
      "FINANZ_UNAUFFAELLIGER    891221 non-null int64\n",
      "FINANZ_HAUSBAUER         891221 non-null int64\n",
      "FINANZTYP                891221 non-null int64\n",
      "GEBURTSJAHR              498903 non-null float64\n",
      "GFK_URLAUBERTYP          886367 non-null float64\n",
      "GREEN_AVANTGARDE         891221 non-null int64\n",
      "HEALTH_TYP               780025 non-null float64\n",
      "LP_LEBENSPHASE_FEIN      793589 non-null float64\n",
      "LP_LEBENSPHASE_GROB      796649 non-null float64\n",
      "LP_FAMILIE_FEIN          813429 non-null float64\n",
      "LP_FAMILIE_GROB          813429 non-null float64\n",
      "LP_STATUS_FEIN           886367 non-null float64\n",
      "LP_STATUS_GROB           886367 non-null float64\n",
      "NATIONALITAET_KZ         782906 non-null float64\n",
      "PRAEGENDE_JUGENDJAHRE    783057 non-null float64\n",
      "RETOURTYP_BK_S           886367 non-null float64\n",
      "SEMIO_SOZ                891221 non-null int64\n",
      "SEMIO_FAM                891221 non-null int64\n",
      "SEMIO_REL                891221 non-null int64\n",
      "SEMIO_MAT                891221 non-null int64\n",
      "SEMIO_VERT               891221 non-null int64\n",
      "SEMIO_LUST               891221 non-null int64\n",
      "SEMIO_ERL                891221 non-null int64\n",
      "SEMIO_KULT               891221 non-null int64\n",
      "SEMIO_RAT                891221 non-null int64\n",
      "SEMIO_KRIT               891221 non-null int64\n",
      "SEMIO_DOM                891221 non-null int64\n",
      "SEMIO_KAEM               891221 non-null int64\n",
      "SEMIO_PFLICHT            891221 non-null int64\n",
      "SEMIO_TRADV              891221 non-null int64\n",
      "SHOPPER_TYP              780025 non-null float64\n",
      "SOHO_KZ                  817722 non-null float64\n",
      "TITEL_KZ                 2160 non-null float64\n",
      "VERS_TYP                 780025 non-null float64\n",
      "ZABEOTYP                 891221 non-null int64\n",
      "ALTER_HH                 580954 non-null float64\n",
      "ANZ_PERSONEN             817722 non-null float64\n",
      "ANZ_TITEL                817722 non-null float64\n",
      "HH_EINKOMMEN_SCORE       872873 non-null float64\n",
      "KK_KUNDENTYP             306609 non-null float64\n",
      "W_KEIT_KIND_HH           743233 non-null float64\n",
      "WOHNDAUER_2008           817722 non-null float64\n",
      "ANZ_HAUSHALTE_AKTIV      791610 non-null float64\n",
      "ANZ_HH_TITEL             794213 non-null float64\n",
      "GEBAEUDETYP              798073 non-null float64\n",
      "KONSUMNAEHE              817252 non-null float64\n",
      "MIN_GEBAEUDEJAHR         798073 non-null float64\n",
      "OST_WEST_KZ              798073 non-null object\n",
      "WOHNLAGE                 798073 non-null float64\n",
      "CAMEO_DEUG_2015          791869 non-null object\n",
      "CAMEO_DEU_2015           791869 non-null object\n",
      "CAMEO_INTL_2015          791869 non-null object\n",
      "KBA05_ANTG1              757897 non-null float64\n",
      "KBA05_ANTG2              757897 non-null float64\n",
      "KBA05_ANTG3              757897 non-null float64\n",
      "KBA05_ANTG4              757897 non-null float64\n",
      "KBA05_BAUMAX             414697 non-null float64\n",
      "KBA05_GBZ                757897 non-null float64\n",
      "BALLRAUM                 797481 non-null float64\n",
      "EWDICHTE                 797481 non-null float64\n",
      "INNENSTADT               797481 non-null float64\n",
      "GEBAEUDETYP_RASTER       798066 non-null float64\n",
      "KKK                      733157 non-null float64\n",
      "MOBI_REGIO               757897 non-null float64\n",
      "ONLINE_AFFINITAET        886367 non-null float64\n",
      "REGIOTYP                 733157 non-null float64\n",
      "KBA13_ANZAHL_PKW         785421 non-null float64\n",
      "PLZ8_ANTG1               774706 non-null float64\n",
      "PLZ8_ANTG2               774706 non-null float64\n",
      "PLZ8_ANTG3               774706 non-null float64\n",
      "PLZ8_ANTG4               774706 non-null float64\n",
      "PLZ8_BAUMAX              774706 non-null float64\n",
      "PLZ8_HHZ                 774706 non-null float64\n",
      "PLZ8_GBZ                 774706 non-null float64\n",
      "ARBEIT                   793846 non-null float64\n",
      "ORTSGR_KLS9              793947 non-null float64\n",
      "RELAT_AB                 793846 non-null float64\n",
      "dtypes: float64(57), int64(24), object(4)\n",
      "memory usage: 578.0+ MB\n"
     ]
    }
   ],
   "source": [
    "azdias.info()"
   ]
  },
  {
   "cell_type": "markdown",
   "metadata": {},
   "source": [
    "#### Step 1.1.2: Assess Missing Data in Each Column\n",
    "\n",
    "How much missing data is present in each column? There are a few columns that are outliers in terms of the proportion of values that are missing. You will want to use matplotlib's [`hist()`](https://matplotlib.org/api/_as_gen/matplotlib.pyplot.hist.html) function to visualize the distribution of missing value counts to find these columns. Identify and document these columns. While some of these columns might have justifications for keeping or re-encoding the data, for this project you should just remove them from the dataframe. (Feel free to make remarks about these outlier columns in the discussion, however!)\n",
    "\n",
    "For the remaining features, are there any patterns in which columns have, or share, missing data?"
   ]
  },
  {
   "cell_type": "code",
   "execution_count": 13,
   "metadata": {},
   "outputs": [
    {
     "data": {
      "image/png": "[encoded data removed]",
      "text/plain": [
       "<Figure size 432x288 with 1 Axes>"
      ]
     },
     "metadata": {
      "needs_background": "light"
     },
     "output_type": "display_data"
    },
    {
     "data": {
      "image/png": "[encoded data removed]",
      "text/plain": [
       "<Figure size 432x288 with 1 Axes>"
      ]
     },
     "metadata": {
      "needs_background": "light"
     },
     "output_type": "display_data"
    }
   ],
   "source": [
    "# Perform an assessment of how much missing data there is in each column of the\n",
    "# dataset.\n",
    "missing_data_percentage = 100*azdias.isnull().sum()/len(azdias)\n",
    "\n",
    "\n",
    "plt.subplot(1,2,1)\n",
    "\n",
    "plt.axes()\n",
    "\n",
    "plt.hist(missing_data_percentage)\n",
    "plt.ylabel('feature count')\n",
    "plt.xlabel('percentage of missing data')\n",
    "plt.show()\n",
    "\n",
    "plt.subplot(1,2,2)\n",
    "plt.axes()\n",
    "plt.ylabel('percentage of missing data [%]')\n",
    "plt.xlabel('feature index')\n",
    "\n",
    "plt.scatter(1+np.arange(azdias.shape[1]),missing_data_percentage , s = 100 , c = 'k' , linewidths=2,edgecolors='r')\n",
    "plt.show()\n",
    "\n"
   ]
  },
  {
   "cell_type": "code",
   "execution_count": 14,
   "metadata": {},
   "outputs": [],
   "source": [
    "mask = missing_data_percentage>=20"
   ]
  },
  {
   "cell_type": "code",
   "execution_count": 15,
   "metadata": {},
   "outputs": [
    {
     "name": "stdout",
     "output_type": "stream",
     "text": [
      "outlier feature which has more that 20% missing data\n",
      "['AGER_TYP', 'GEBURTSJAHR', 'TITEL_KZ', 'ALTER_HH', 'KK_KUNDENTYP', 'KBA05_BAUMAX']\n",
      "number of features: 6\n"
     ]
    }
   ],
   "source": [
    "print('outlier feature which has more that 20% missing data')\n",
    "print(list(azdias.loc[:,mask].columns))\n",
    "print('number of features:',len(list(azdias.loc[:,mask].columns)))"
   ]
  },
  {
   "cell_type": "code",
   "execution_count": 16,
   "metadata": {},
   "outputs": [
    {
     "name": "stdout",
     "output_type": "stream",
     "text": [
      "features which have missing between 10% - 20%:\n",
      "number of features: 40\n"
     ]
    }
   ],
   "source": [
    "# Investigate patterns in the amount of missing data in each column.\n",
    "\n",
    "mask2 = (missing_data_percentage>10) & ( missing_data_percentage<20)\n",
    "\n",
    "print('features which have missing between 10% - 20%:')\n",
    "print('number of features:',len(list(azdias.loc[:,mask2].columns)))\n"
   ]
  },
  {
   "cell_type": "code",
   "execution_count": 17,
   "metadata": {},
   "outputs": [
    {
     "name": "stdout",
     "output_type": "stream",
     "text": [
      "features with no missing values:\n",
      "['ANREDE_KZ', 'FINANZ_MINIMALIST', 'FINANZ_SPARER', 'FINANZ_VORSORGER', 'FINANZ_ANLEGER', 'FINANZ_UNAUFFAELLIGER', 'FINANZ_HAUSBAUER', 'FINANZTYP', 'GREEN_AVANTGARDE', 'SEMIO_SOZ', 'SEMIO_FAM', 'SEMIO_REL', 'SEMIO_MAT', 'SEMIO_VERT', 'SEMIO_LUST', 'SEMIO_ERL', 'SEMIO_KULT', 'SEMIO_RAT', 'SEMIO_KRIT', 'SEMIO_DOM', 'SEMIO_KAEM', 'SEMIO_PFLICHT', 'SEMIO_TRADV', 'ZABEOTYP']\n",
      "number of features: 24\n"
     ]
    }
   ],
   "source": [
    "# how many features have no missing data:\n",
    "\n",
    "mask3=~azdias.isna().any()\n",
    "\n",
    "print('features with no missing values:')\n",
    "print(list(azdias.loc[:,mask3].columns))\n",
    "print('number of features:',len(list(azdias.loc[:,mask3].columns)))"
   ]
  },
  {
   "cell_type": "code",
   "execution_count": 18,
   "metadata": {},
   "outputs": [],
   "source": [
    "# Remove the outlier columns from the dataset. (You'll perform other data\n",
    "# engineering tasks such as re-encoding and imputation later.)\n",
    "columns2drop=list(azdias.loc[:,mask].columns)\n",
    "azdias.drop(columns=columns2drop,axis=1,inplace=True)\n"
   ]
  },
  {
   "cell_type": "code",
   "execution_count": 19,
   "metadata": {},
   "outputs": [
    {
     "data": {
      "text/plain": [
       "(891221, 79)"
      ]
     },
     "execution_count": 19,
     "metadata": {},
     "output_type": "execute_result"
    }
   ],
   "source": [
    "azdias.shape"
   ]
  },
  {
   "cell_type": "code",
   "execution_count": 20,
   "metadata": {},
   "outputs": [
    {
     "data": {
      "text/plain": [
       "(79, 4)"
      ]
     },
     "execution_count": 20,
     "metadata": {},
     "output_type": "execute_result"
    }
   ],
   "source": [
    "feat_info = feat_info[~feat_info['attribute'].isin(columns2drop)]\n",
    "feat_info.shape"
   ]
  },
  {
   "cell_type": "markdown",
   "metadata": {},
   "source": [
    "#### Discussion 1.1.2: Assess Missing Data in Each Column\n",
    "\n",
    "The amount of missing data can be divided into three parts\n",
    "\n",
    "**outlier data**: which have more than 20% missing data: total 5 features in this data \n",
    "\n",
    "\n",
    "**missing data**: in which columns have less than 20% of their data missing: a total of  53 features\n",
    "\n",
    "\n",
    "**complete data**: in which the columns have no missing data: a total of 27 features "
   ]
  },
  {
   "cell_type": "markdown",
   "metadata": {},
   "source": [
    "#### Step 1.1.3: Assess Missing Data in Each Row\n",
    "\n",
    "Now, you'll perform a similar assessment for the rows of the dataset. How much data is missing in each row? As with the columns, you should see some groups of points that have a very different numbers of missing values. Divide the data into two subsets: one for data points that are above some threshold for missing values, and a second subset for points below that threshold.\n",
    "\n",
    "In order to know what to do with the outlier rows, we should see if the distribution of data values on columns that are not missing data (or are missing very little data) are similar or different between the two groups. Select at least five of these columns and compare the distribution of values.\n",
    "- You can use seaborn's [`countplot()`](https://seaborn.pydata.org/generated/seaborn.countplot.html) function to create a bar chart of code frequencies and matplotlib's [`subplot()`](https://matplotlib.org/api/_as_gen/matplotlib.pyplot.subplot.html) function to put bar charts for the two subplots side by side.\n",
    "- To reduce repeated code, you might want to write a function that can perform this comparison, taking as one of its arguments a column to be compared.\n",
    "\n",
    "Depending on what you observe in your comparison, this will have implications on how you approach your conclusions later in the analysis. If the distributions of non-missing features look similar between the data with many missing values and the data with few or no missing values, then we could argue that simply dropping those points from the analysis won't present a major issue. On the other hand, if the data with many missing values looks very different from the data with few or no missing values, then we should make a note on those data as special. We'll revisit these data later on. **Either way, you should continue your analysis for now using just the subset of the data with few or no missing values.**"
   ]
  },
  {
   "cell_type": "code",
   "execution_count": 21,
   "metadata": {},
   "outputs": [
    {
     "data": {
      "image/png": "[encoded data removed]",
      "text/plain": [
       "<Figure size 432x288 with 1 Axes>"
      ]
     },
     "metadata": {
      "needs_background": "light"
     },
     "output_type": "display_data"
    },
    {
     "data": {
      "image/png": "[encoded data removed]",
      "text/plain": [
       "<Figure size 432x288 with 1 Axes>"
      ]
     },
     "metadata": {
      "needs_background": "light"
     },
     "output_type": "display_data"
    }
   ],
   "source": [
    "# How much data is missing in each row of the dataset?\n",
    "row_missing_percentage = 100*azdias.isna().sum(axis=1)/azdias.shape[1]\n",
    "row_missing_count=azdias.isna().sum(axis=1)\n",
    "\n",
    "\n",
    "\n",
    "\n",
    "plt.subplot(2,1,1)\n",
    "plt.axis()\n",
    "\n",
    "plt.hist(row_missing_percentage)\n",
    "plt.ylabel('row count')\n",
    "plt.xlabel('precentage of missing data from rows')\n",
    "plt.show()\n",
    "\n",
    "\n",
    "plt.subplot(2,1,2)\n",
    "plt.axis()\n",
    "\n",
    "plt.hist(row_missing_count)\n",
    "plt.ylabel('row count')\n",
    "plt.xlabel('number of missing data in each rows')\n",
    "plt.show()\n"
   ]
  },
  {
   "cell_type": "code",
   "execution_count": 22,
   "metadata": {},
   "outputs": [],
   "source": [
    "# Write code to divide the data into two subsets based on the number of missing\n",
    "# values in each row.\n",
    "\n",
    "row_thresh = 5 # the threshhold number of data missing in each row \n",
    "\n",
    "mask_high=row_missing_count>row_thresh\n",
    "mask_low = ~mask_high\n",
    "\n"
   ]
  },
  {
   "cell_type": "code",
   "execution_count": 23,
   "metadata": {},
   "outputs": [
    {
     "data": {
      "image/png": "[encoded data removed]",
      "text/plain": [
       "<Figure size 432x288 with 1 Axes>"
      ]
     },
     "metadata": {
      "needs_background": "light"
     },
     "output_type": "display_data"
    },
    {
     "data": {
      "image/png": "[encoded data removed]",
      "text/plain": [
       "<Figure size 432x288 with 1 Axes>"
      ]
     },
     "metadata": {
      "needs_background": "light"
     },
     "output_type": "display_data"
    },
    {
     "data": {
      "image/png": "[encoded data removed]",
      "text/plain": [
       "<Figure size 432x288 with 1 Axes>"
      ]
     },
     "metadata": {
      "needs_background": "light"
     },
     "output_type": "display_data"
    },
    {
     "data": {
      "image/png": "[encoded data removed]",
      "text/plain": [
       "<Figure size 432x288 with 1 Axes>"
      ]
     },
     "metadata": {
      "needs_background": "light"
     },
     "output_type": "display_data"
    },
    {
     "data": {
      "image/png": "[encoded data removed]",
      "text/plain": [
       "<Figure size 432x288 with 1 Axes>"
      ]
     },
     "metadata": {
      "needs_background": "light"
     },
     "output_type": "display_data"
    }
   ],
   "source": [
    "# Compare the distribution of values for at least five columns where there are\n",
    "# no or few missing values, between the two subsets.\n",
    "\n",
    "# print(list(azdias.loc[:,mask3].columns))\n",
    "\n",
    "\n",
    "# plt.hist([azdias.loc[mask_high,'SEMIO_MAT'],azdias.loc[mask_low,'SEMIO_MAT']],density=True)\n",
    "\n",
    "def comapre_hist(azdias,mask_high):\n",
    "    mask_low = ~mask_high\n",
    "    mask3=~azdias.isna().any()\n",
    "\n",
    "    columns = list(azdias.loc[:,mask3].columns)\n",
    "    col2compare = 5\n",
    "    np.random.seed(0)\n",
    "    columns_choice=list(np.random.choice(columns,size=col2compare ,replace= False))\n",
    "    \n",
    "    for col in columns_choice:\n",
    "        \n",
    "        plt.subplot()\n",
    "        plt.axis()\n",
    "        plt.title(col)\n",
    "        plt.hist([azdias.loc[mask_high,col],azdias.loc[mask_low,col]],\n",
    "                 density=True,label=['high missing','low missing'])\n",
    "#         plt.hist(azdias.loc[mask_high,col],\n",
    "#                  density=True,label='high missing')\n",
    "#         plt.hist(azdias.loc[mask_low,col],\n",
    "#                  density=True,label='low missing')\n",
    "        plt.xlabel('values of feature')\n",
    "        plt.ylabel('normalized count')\n",
    "        plt.legend()\n",
    "        plt.show()\n",
    "    \n",
    "    \n",
    "    \n",
    "    \n",
    "   \n",
    "    \n",
    "comapre_hist(azdias,mask_high)"
   ]
  },
  {
   "cell_type": "markdown",
   "metadata": {},
   "source": [
    "#### Discussion 1.1.3: Assess Missing Data in Each Row\n",
    "\n",
    "based on the above five normalized histograms, it can be seen that the distribution similarity between the two datasets ( lots of missing and few missing) depends on the features selected. some feature like 'FINANZ_SPARER' seems to have a good level of aggregate between the two datasets. while other features show variation. in my opinion, the w two data sets cannot be considered to behave similar distribution. so the two datasets are qualitatively different.   are different in their distributions."
   ]
  },
  {
   "cell_type": "code",
   "execution_count": 24,
   "metadata": {},
   "outputs": [
    {
     "name": "stdout",
     "output_type": "stream",
     "text": [
      "precentage of dropped data when dropping any row with nan: 30.07245116531141\n",
      "precentage of dropped data when dropping rows which has a threshhold values of nan: 17.708963321106662\n"
     ]
    }
   ],
   "source": [
    "# investigate how much data I'll drop \n",
    "\n",
    "original_len = len(azdias)\n",
    "dropped_len = len(azdias.dropna())\n",
    "print('precentage of dropped data when dropping any row with nan:',100*(1-(dropped_len/original_len)))\n",
    "\n",
    "reduced_len = len(azdias.dropna(thresh=azdias.shape[1]-(row_thresh+1)))#len(azdias.loc[mask_low,:])\n",
    "\n",
    "print('precentage of dropped data when dropping rows which has a threshhold values of nan:',100*(1-(reduced_len/original_len)))"
   ]
  },
  {
   "cell_type": "code",
   "execution_count": 25,
   "metadata": {},
   "outputs": [],
   "source": [
    "# drop data with threshold \n",
    "\n",
    "azdias.dropna(thresh=azdias.shape[1]-(row_thresh+1),inplace=True)\n",
    "\n",
    "\n"
   ]
  },
  {
   "cell_type": "markdown",
   "metadata": {},
   "source": [
    "### Step 1.2: Select and Re-Encode Features\n",
    "\n",
    "Checking for missing data isn't the only way in which you can prepare a dataset for analysis. Since the unsupervised learning techniques to be used will only work on data that is encoded numerically, you need to make a few encoding changes or additional assumptions to be able to make progress. In addition, while almost all of the values in the dataset are encoded using numbers, not all of them represent numeric values. Check the third column of the feature summary (`feat_info`) for a summary of types of measurement.\n",
    "- For numeric and interval data, these features can be kept without changes.\n",
    "- Most of the variables in the dataset are ordinal in nature. While ordinal values may technically be non-linear in spacing, make the simplifying assumption that the ordinal variables can be treated as being interval in nature (that is, kept without any changes).\n",
    "- Special handling may be necessary for the remaining two variable types: categorical, and 'mixed'.\n",
    "\n",
    "In the first two parts of this sub-step, you will perform an investigation of the categorical and mixed-type features and make a decision on each of them, whether you will keep, drop, or re-encode each. Then, in the last part, you will create a new data frame with only the selected and engineered columns.\n",
    "\n",
    "Data wrangling is often the trickiest part of the data analysis process, and there's a lot of it to be done here. But stick with it: once you're done with this step, you'll be ready to get to the machine learning parts of the project!"
   ]
  },
  {
   "cell_type": "code",
   "execution_count": 26,
   "metadata": {},
   "outputs": [
    {
     "name": "stdout",
     "output_type": "stream",
     "text": [
      "['ordinal' 'categorical' 'mixed' 'numeric']\n",
      "ordinal 49\n",
      "categorical 18\n",
      "mixed 6\n",
      "numeric 6\n"
     ]
    }
   ],
   "source": [
    "# How many features are there of each data type?\n",
    "\n",
    "print(pd.unique(feat_info.iloc[:,2]))\n",
    "for data_type in list(pd.unique(feat_info.iloc[:,2])):\n",
    "    print(data_type,(feat_info.iloc[:,2]==data_type).sum())"
   ]
  },
  {
   "cell_type": "markdown",
   "metadata": {},
   "source": [
    "#### Step 1.2.1: Re-Encode Categorical Features\n",
    "\n",
    "For categorical data, you would ordinarily need to encode the levels as dummy variables. Depending on the number of categories, perform one of the following:\n",
    "- For binary (two-level) categoricals that take numeric values, you can keep them without needing to do anything.\n",
    "- There is one binary variable that takes on non-numeric values. For this one, you need to re-encode the values as numbers or create a dummy variable.\n",
    "- For multi-level categoricals (three or more values), you can choose to encode the values using multiple dummy variables (e.g. via [OneHotEncoder](http://scikit-learn.org/stable/modules/generated/sklearn.preprocessing.OneHotEncoder.html)), or (to keep things straightforward) just drop them from the analysis. As always, document your choices in the Discussion section."
   ]
  },
  {
   "cell_type": "code",
   "execution_count": 27,
   "metadata": {},
   "outputs": [],
   "source": [
    "# Assess categorical variables: which are binary, which are multi-level, and\n",
    "# which one needs to be re-encoded?\n",
    "binary_feat = ['ANREDE_KZ','GREEN_AVANTGARDE','SOHO_KZ','VERS_TYP']\n",
    "binary_feat_non_numeric = ['OST_WEST_KZ']\n",
    "\n",
    "binary = binary_feat + binary_feat_non_numeric"
   ]
  },
  {
   "cell_type": "code",
   "execution_count": 29,
   "metadata": {},
   "outputs": [],
   "source": [
    "# Re-encode categorical variable(s) to be kept in the analysis.\n",
    "\n",
    "# first re-encode binary to 0 and 1 only for consistency\n",
    "\n",
    "for col in binary:\n",
    "    \n",
    "    unique_val = azdias[col].dropna().unique()\n",
    "    c = {unique_val[0]:0 , unique_val[1]:1}\n",
    "    azdias[col]=azdias[col].map(c)\n",
    "    \n",
    "# find categorical columns with more than 2 values:\n",
    "\n",
    "cat_mask=feat_info.type=='categorical'\n",
    "\n",
    "all_cat = list(feat_info[cat_mask].iloc[:,0])\n",
    "\n",
    "cat_2plus = [x for x in all_cat if x not in binary]\n",
    "\n",
    "# azdias = pd.get_dummies(azdias,columns=cat_2plus )\n",
    "\n",
    "# drop all multi-level categorical features\n",
    "azdias.drop(labels=cat_2plus , axis=1, inplace=True)"
   ]
  },
  {
   "cell_type": "markdown",
   "metadata": {},
   "source": [
    "#### Discussion 1.2.1: Re-Encode Categorical Features\n",
    "\n",
    "Binary categorical features were kept. they were mapped to ```[0,1] ```. The multi-level features  were removed completely for simplicity"
   ]
  },
  {
   "cell_type": "markdown",
   "metadata": {},
   "source": [
    "#### Step 1.2.2: Engineer Mixed-Type Features\n",
    "\n",
    "There are a handful of features that are marked as \"mixed\" in the feature summary that require special treatment in order to be included in the analysis. There are two in particular that deserve attention; the handling of the rest are up to your own choices:\n",
    "- \"PRAEGENDE_JUGENDJAHRE\" combines information on three dimensions: generation by decade, movement (mainstream vs. avantgarde), and nation (east vs. west). While there aren't enough levels to disentangle east from west, you should create two new variables to capture the other two dimensions: an interval-type variable for decade, and a binary variable for movement.\n",
    "- \"CAMEO_INTL_2015\" combines information on two axes: wealth and life stage. Break up the two-digit codes by their 'tens'-place and 'ones'-place digits into two new ordinal variables (which, for the purposes of this project, is equivalent to just treating them as their raw numeric values).\n",
    "- If you decide to keep or engineer new features around the other mixed-type features, make sure you note your steps in the Discussion section.\n",
    "\n",
    "Be sure to check `Data_Dictionary.md` for the details needed to finish these tasks."
   ]
  },
  {
   "cell_type": "code",
   "execution_count": 30,
   "metadata": {},
   "outputs": [],
   "source": [
    "# Investigate \"PRAEGENDE_JUGENDJAHRE\" and engineer two new variables.\n",
    "\n",
    "# 0 is avantgarde  and 1 isMainstream \n",
    "\n",
    "map_binary = {\n",
    "              1.0:  1,\n",
    "              2.0:  0,\n",
    "              3.0:  1,\n",
    "              4.0:  0,\n",
    "              5.0:  1,\n",
    "              6.0:  0,\n",
    "              7.0:  0,\n",
    "              8.0:  1,\n",
    "              9.0:  0,\n",
    "              10.0: 1,\n",
    "              11.0: 0,\n",
    "              12.0: 1,\n",
    "              13.0: 0,\n",
    "              14.0: 1,\n",
    "              15.0: 0\n",
    "}\n",
    "\n",
    "# 1 ==> 40 , 2==> 50 , 3==> 60 , 4==> 70 , 5==> 80 , 5==> 90\n",
    "map_interval = {\n",
    "                  1.0:  1,\n",
    "                  2.0:  1,\n",
    "                  3.0:  2,\n",
    "                  4.0:  2,\n",
    "                  5.0:  3,\n",
    "                  6.0:  3,\n",
    "                  7.0:  3,\n",
    "                  8.0:  4,\n",
    "                  9.0:  4,\n",
    "                  10.0: 5,\n",
    "                  11.0: 5,\n",
    "                  12.0: 5,\n",
    "                  13.0: 5,\n",
    "                  14.0: 6,\n",
    "                  15.0: 6\n",
    "}\n",
    "azdias['PRAEGENDE_JUGENDJAHRE_binary']=azdias.PRAEGENDE_JUGENDJAHRE.map(map_binary)\n",
    "azdias['PRAEGENDE_JUGENDJAHRE_interval']=azdias.PRAEGENDE_JUGENDJAHRE.map(map_interval)\n",
    "azdias.drop(labels='PRAEGENDE_JUGENDJAHRE',axis=1,inplace=True)"
   ]
  },
  {
   "cell_type": "code",
   "execution_count": 45,
   "metadata": {},
   "outputs": [],
   "source": [
    "# Investigate \"CAMEO_INTL_2015\" and engineer two new variables.\n",
    "map_wealth={\n",
    "            \n",
    "            11.0:1,\n",
    "            12.0:1,\n",
    "            13.0:1,\n",
    "            14.0:1,\n",
    "            15.0:1,\n",
    "            21.0:2,\n",
    "            22.0:2,\n",
    "            23.0:2,\n",
    "            24.0:2,\n",
    "            25.0:2,\n",
    "            31.0:3,\n",
    "            32.0:3,\n",
    "            33.0:3,\n",
    "            34.0:3,\n",
    "            35.0:3,\n",
    "            41.0:4,\n",
    "            42.0:4,\n",
    "            43.0:4,\n",
    "            44.0:4,\n",
    "            45.0:4,\n",
    "            51.0:5,\n",
    "            52.0:5,\n",
    "            53.0:5,\n",
    "            54.0:5,\n",
    "            55.0:5  \n",
    "}\n",
    "\n",
    "map_life={\n",
    "            \n",
    "            11.0:1,\n",
    "            12.0:2,\n",
    "            13.0:3,\n",
    "            14.0:4,\n",
    "            15.0:5,\n",
    "            21.0:1,\n",
    "            22.0:2,\n",
    "            23.0:3,\n",
    "            24.0:4,\n",
    "            25.0:5,\n",
    "            31.0:1,\n",
    "            32.0:2,\n",
    "            33.0:3,\n",
    "            34.0:4,\n",
    "            35.0:5,\n",
    "            41.0:1,\n",
    "            42.0:2,\n",
    "            43.0:3,\n",
    "            44.0:4,\n",
    "            45.0:5,\n",
    "            51.0:1,\n",
    "            52.0:2,\n",
    "            53.0:3,\n",
    "            54.0:4,\n",
    "            55.0:5  \n",
    "}\n",
    "\n",
    "azdias.CAMEO_INTL_2015=azdias.CAMEO_INTL_2015.apply(lambda x: float(x))\n",
    "azdias['CAMEO_INTL_2015_wealth']=azdias.CAMEO_INTL_2015.map(map_wealth)\n",
    "azdias['CAMEO_INTL_2015_life']=azdias.CAMEO_INTL_2015.map(map_life)\n",
    "azdias.drop(labels='CAMEO_INTL_2015',axis=1,inplace=True)"
   ]
  },
  {
   "cell_type": "code",
   "execution_count": 46,
   "metadata": {},
   "outputs": [
    {
     "data": {
      "text/plain": [
       "68"
      ]
     },
     "execution_count": 46,
     "metadata": {},
     "output_type": "execute_result"
    }
   ],
   "source": [
    "azdias.shape[1]"
   ]
  },
  {
   "cell_type": "code",
   "execution_count": 48,
   "metadata": {},
   "outputs": [
    {
     "data": {
      "text/plain": [
       "64"
      ]
     },
     "execution_count": 48,
     "metadata": {},
     "output_type": "execute_result"
    }
   ],
   "source": [
    "# drop other mixed values:\n",
    "\n",
    "\n",
    "mixed_mask=feat_info.type=='mixed'\n",
    "\n",
    "all_mixed = list(feat_info[mixed_mask].iloc[:,0])\n",
    "\n",
    "mixed_2drop = [x for x in all_mixed if x in list(azdias.columns)]\n",
    "\n",
    "\n",
    "\n",
    "# drop all remaining mixed  features\n",
    "azdias.drop(labels=mixed_2drop  , axis=1, inplace=True)\n",
    "azdias.shape[1]"
   ]
  },
  {
   "cell_type": "markdown",
   "metadata": {},
   "source": [
    "#### Discussion 1.2.2: Engineer Mixed-Type Features\n",
    "\n",
    "Regarding the mixed values, all of them were dropped from analysis except  ```PRAEGENDE_JUGENDJAHRE``` and ```CAMEO_INTL_2015```\n",
    "\n",
    "```PRAEGENDE_JUGENDJAHRE``` were encoded into a binary feature and an interval features \n",
    "\n",
    "```CAMEO_INTL_2015``` were encoded into two interval features"
   ]
  },
  {
   "cell_type": "markdown",
   "metadata": {},
   "source": [
    "#### Step 1.2.3: Complete Feature Selection\n",
    "\n",
    "In order to finish this step up, you need to make sure that your data frame now only has the columns that you want to keep. To summarize, the dataframe should consist of the following:\n",
    "- All numeric, interval, and ordinal type columns from the original dataset.\n",
    "- Binary categorical features (all numerically-encoded).\n",
    "- Engineered features from other multi-level categorical features and mixed features.\n",
    "\n",
    "Make sure that for any new columns that you have engineered, that you've excluded the original columns from the final dataset. Otherwise, their values will interfere with the analysis later on the project. For example, you should not keep \"PRAEGENDE_JUGENDJAHRE\", since its values won't be useful for the algorithm: only the values derived from it in the engineered features you created should be retained. As a reminder, your data should only be from **the subset with few or no missing values**."
   ]
  },
  {
   "cell_type": "code",
   "execution_count": 54,
   "metadata": {},
   "outputs": [
    {
     "name": "stdout",
     "output_type": "stream",
     "text": [
      "<class 'pandas.core.frame.DataFrame'>\n",
      "RangeIndex: 733395 entries, 0 to 733394\n",
      "Data columns (total 64 columns):\n",
      "ALTERSKATEGORIE_GROB              731412 non-null float64\n",
      "ANREDE_KZ                         733395 non-null int64\n",
      "FINANZ_MINIMALIST                 733395 non-null int64\n",
      "FINANZ_SPARER                     733395 non-null int64\n",
      "FINANZ_VORSORGER                  733395 non-null int64\n",
      "FINANZ_ANLEGER                    733395 non-null int64\n",
      "FINANZ_UNAUFFAELLIGER             733395 non-null int64\n",
      "FINANZ_HAUSBAUER                  733395 non-null int64\n",
      "GREEN_AVANTGARDE                  733395 non-null int64\n",
      "HEALTH_TYP                        715877 non-null float64\n",
      "RETOURTYP_BK_S                    733395 non-null float64\n",
      "SEMIO_SOZ                         733395 non-null int64\n",
      "SEMIO_FAM                         733395 non-null int64\n",
      "SEMIO_REL                         733395 non-null int64\n",
      "SEMIO_MAT                         733395 non-null int64\n",
      "SEMIO_VERT                        733395 non-null int64\n",
      "SEMIO_LUST                        733395 non-null int64\n",
      "SEMIO_ERL                         733395 non-null int64\n",
      "SEMIO_KULT                        733395 non-null int64\n",
      "SEMIO_RAT                         733395 non-null int64\n",
      "SEMIO_KRIT                        733395 non-null int64\n",
      "SEMIO_DOM                         733395 non-null int64\n",
      "SEMIO_KAEM                        733395 non-null int64\n",
      "SEMIO_PFLICHT                     733395 non-null int64\n",
      "SEMIO_TRADV                       733395 non-null int64\n",
      "SOHO_KZ                           733395 non-null int64\n",
      "VERS_TYP                          715877 non-null float64\n",
      "ANZ_PERSONEN                      733395 non-null float64\n",
      "ANZ_TITEL                         733395 non-null float64\n",
      "HH_EINKOMMEN_SCORE                733395 non-null float64\n",
      "W_KEIT_KIND_HH                    692752 non-null float64\n",
      "WOHNDAUER_2008                    733395 non-null float64\n",
      "ANZ_HAUSHALTE_AKTIV               730489 non-null float64\n",
      "ANZ_HH_TITEL                      732773 non-null float64\n",
      "KONSUMNAEHE                       733349 non-null float64\n",
      "MIN_GEBAEUDEJAHR                  733395 non-null float64\n",
      "OST_WEST_KZ                       733395 non-null int64\n",
      "KBA05_ANTG1                       723187 non-null float64\n",
      "KBA05_ANTG2                       723187 non-null float64\n",
      "KBA05_ANTG3                       723187 non-null float64\n",
      "KBA05_ANTG4                       723187 non-null float64\n",
      "KBA05_GBZ                         723187 non-null float64\n",
      "BALLRAUM                          732910 non-null float64\n",
      "EWDICHTE                          732910 non-null float64\n",
      "INNENSTADT                        732910 non-null float64\n",
      "GEBAEUDETYP_RASTER                733390 non-null float64\n",
      "KKK                               694076 non-null float64\n",
      "MOBI_REGIO                        723187 non-null float64\n",
      "ONLINE_AFFINITAET                 733395 non-null float64\n",
      "REGIOTYP                          694076 non-null float64\n",
      "KBA13_ANZAHL_PKW                  732737 non-null float64\n",
      "PLZ8_ANTG1                        733395 non-null float64\n",
      "PLZ8_ANTG2                        733395 non-null float64\n",
      "PLZ8_ANTG3                        733395 non-null float64\n",
      "PLZ8_ANTG4                        733395 non-null float64\n",
      "PLZ8_HHZ                          733395 non-null float64\n",
      "PLZ8_GBZ                          733395 non-null float64\n",
      "ARBEIT                            729725 non-null float64\n",
      "ORTSGR_KLS9                       729803 non-null float64\n",
      "RELAT_AB                          729725 non-null float64\n",
      "PRAEGENDE_JUGENDJAHRE_binary      723953 non-null float64\n",
      "PRAEGENDE_JUGENDJAHRE_interval    723953 non-null float64\n",
      "CAMEO_INTL_2015_wealth            730200 non-null float64\n",
      "CAMEO_INTL_2015_life              730200 non-null float64\n",
      "dtypes: float64(40), int64(24)\n",
      "memory usage: 358.1 MB\n"
     ]
    }
   ],
   "source": [
    "azdias.reset_index(drop=True,inplace=True)\n",
    "azdias.info()"
   ]
  },
  {
   "cell_type": "code",
   "execution_count": 514,
   "metadata": {},
   "outputs": [],
   "source": [
    "# If there are other re-engineering tasks you need to perform, make sure you\n",
    "# take care of them here. (Dealing with missing data will come in step 2.1.)\n",
    "\n"
   ]
  },
  {
   "cell_type": "code",
   "execution_count": 515,
   "metadata": {},
   "outputs": [],
   "source": [
    "# Do whatever you need to in order to ensure that the dataframe only contains\n",
    "# the columns that should be passed to the algorithm functions.\n",
    "\n"
   ]
  },
  {
   "cell_type": "markdown",
   "metadata": {},
   "source": [
    "### Step 1.3: Create a Cleaning Function\n",
    "\n",
    "Even though you've finished cleaning up the general population demographics data, it's important to look ahead to the future and realize that you'll need to perform the same cleaning steps on the customer demographics data. In this substep, complete the function below to execute the main feature selection, encoding, and re-engineering steps you performed above. Then, when it comes to looking at the customer data in Step 3, you can just run this function on that DataFrame to get the trimmed dataset in a single step."
   ]
  },
  {
   "cell_type": "code",
   "execution_count": 5,
   "metadata": {},
   "outputs": [],
   "source": [
    "def clean_data(df,df_support):\n",
    "    \"\"\"\n",
    "    Perform feature trimming, re-encoding, and engineering for demographics\n",
    "    data\n",
    "    \n",
    "    INPUT: Demographics DataFrame\n",
    "    OUTPUT: Trimmed and cleaned demographics DataFrame\n",
    "    \"\"\"\n",
    "    df_clean = df\n",
    "    # Put in code here to execute all main cleaning steps:\n",
    "    # convert missing value codes into NaNs, ...\n",
    "    \n",
    "    for col in range(df.shape[1]):\n",
    "\n",
    "        missing_list=df_support.iloc[col]['missing_or_unknown'][1:-1].split(',')\n",
    "\n",
    "        # parse the missing list so that it can be used to assign nans. this jsut convert from string to integers and alpha\n",
    "        missing_list_parsed = []\n",
    "        for x in missing_list:\n",
    "            if x.lstrip('-').isnumeric():\n",
    "                \n",
    "                missing_list_parsed.append(int(x))\n",
    "            else:\n",
    "                missing_list_parsed.append(x)\n",
    "    \n",
    "        df_clean.iloc[:,col] = df.iloc[:,col].replace(missing_list_parsed,np.nan)\n",
    "    \n",
    "    \n",
    "    # remove selected columns and rows, ...\n",
    "    \n",
    "    # drop outlier columns:\n",
    "    columns2drop = ['AGER_TYP', 'GEBURTSJAHR', 'TITEL_KZ', 'ALTER_HH', 'KK_KUNDENTYP', 'KBA05_BAUMAX']\n",
    "    df_clean.drop(columns=columns2drop,axis=1,inplace=True)\n",
    "    df_support = df_support[~df_support['attribute'].isin(columns2drop)]\n",
    "    # drop rows based on a thershhold of missing data:\n",
    "    row_thresh = 5 # the threshhold number of data missing in each row \n",
    "    df_clean.dropna(thresh=df_clean.shape[1]-(row_thresh+1),inplace=True)\n",
    "    \n",
    "    \n",
    "    # select, re-encode, and engineer column values.\n",
    "    \n",
    "    \n",
    "    binary = ['ANREDE_KZ','GREEN_AVANTGARDE','SOHO_KZ','VERS_TYP','OST_WEST_KZ']\n",
    "    \n",
    "    # Re-encode categorical variable(s) to be kept in the analysis.\n",
    "\n",
    "    # first re-encode binary to 0 and 1 only for consistency\n",
    "\n",
    "    for col in binary:\n",
    "\n",
    "        unique_val = df_clean[col].dropna().unique()\n",
    "        c = {unique_val[0]:0 , unique_val[1]:1}\n",
    "        df_clean[col]=df_clean[col].map(c)\n",
    "\n",
    "    # find categorical columns with more than 2 values:\n",
    "\n",
    "    cat_mask=df_support.type=='categorical'\n",
    "\n",
    "    all_cat = list(df_support[cat_mask].iloc[:,0])\n",
    "\n",
    "    cat_2plus = [x for x in all_cat if x not in binary]\n",
    "\n",
    "    \n",
    "\n",
    "    # drop all multi-level categorical features\n",
    "    df_clean.drop(labels=cat_2plus , axis=1, inplace=True)\n",
    "    \n",
    "    # Investigate \"PRAEGENDE_JUGENDJAHRE\" and engineer two new variables.\n",
    "    # 0 is avantgarde  and 1 isMainstream \n",
    "\n",
    "    map_binary = {\n",
    "                  1.0:  1,\n",
    "                  2.0:  0,\n",
    "                  3.0:  1,\n",
    "                  4.0:  0,\n",
    "                  5.0:  1,\n",
    "                  6.0:  0,\n",
    "                  7.0:  0,\n",
    "                  8.0:  1,\n",
    "                  9.0:  0,\n",
    "                  10.0: 1,\n",
    "                  11.0: 0,\n",
    "                  12.0: 1,\n",
    "                  13.0: 0,\n",
    "                  14.0: 1,\n",
    "                  15.0: 0\n",
    "    }\n",
    "\n",
    "    # 1 ==> 40 , 2==> 50 , 3==> 60 , 4==> 70 , 5==> 80 , 5==> 90\n",
    "    map_interval = {\n",
    "                      1.0:  1,\n",
    "                      2.0:  1,\n",
    "                      3.0:  2,\n",
    "                      4.0:  2,\n",
    "                      5.0:  3,\n",
    "                      6.0:  3,\n",
    "                      7.0:  3,\n",
    "                      8.0:  4,\n",
    "                      9.0:  4,\n",
    "                      10.0: 5,\n",
    "                      11.0: 5,\n",
    "                      12.0: 5,\n",
    "                      13.0: 5,\n",
    "                      14.0: 6,\n",
    "                      15.0: 6\n",
    "    }\n",
    "    df_clean['PRAEGENDE_JUGENDJAHRE_binary']=df_clean.PRAEGENDE_JUGENDJAHRE.map(map_binary)\n",
    "    df_clean['PRAEGENDE_JUGENDJAHRE_interval']=df_clean.PRAEGENDE_JUGENDJAHRE.map(map_interval)\n",
    "    df_clean.drop(labels='PRAEGENDE_JUGENDJAHRE',axis=1,inplace=True)\n",
    "    \n",
    "    \n",
    "    # Investigate \"CAMEO_INTL_2015\" and engineer two new variables.\n",
    "    map_wealth={\n",
    "\n",
    "                11.0:1,\n",
    "                12.0:1,\n",
    "                13.0:1,\n",
    "                14.0:1,\n",
    "                15.0:1,\n",
    "                21.0:2,\n",
    "                22.0:2,\n",
    "                23.0:2,\n",
    "                24.0:2,\n",
    "                25.0:2,\n",
    "                31.0:3,\n",
    "                32.0:3,\n",
    "                33.0:3,\n",
    "                34.0:3,\n",
    "                35.0:3,\n",
    "                41.0:4,\n",
    "                42.0:4,\n",
    "                43.0:4,\n",
    "                44.0:4,\n",
    "                45.0:4,\n",
    "                51.0:5,\n",
    "                52.0:5,\n",
    "                53.0:5,\n",
    "                54.0:5,\n",
    "                55.0:5  \n",
    "    }\n",
    "\n",
    "    map_life={\n",
    "\n",
    "                11.0:1,\n",
    "                12.0:2,\n",
    "                13.0:3,\n",
    "                14.0:4,\n",
    "                15.0:5,\n",
    "                21.0:1,\n",
    "                22.0:2,\n",
    "                23.0:3,\n",
    "                24.0:4,\n",
    "                25.0:5,\n",
    "                31.0:1,\n",
    "                32.0:2,\n",
    "                33.0:3,\n",
    "                34.0:4,\n",
    "                35.0:5,\n",
    "                41.0:1,\n",
    "                42.0:2,\n",
    "                43.0:3,\n",
    "                44.0:4,\n",
    "                45.0:5,\n",
    "                51.0:1,\n",
    "                52.0:2,\n",
    "                53.0:3,\n",
    "                54.0:4,\n",
    "                55.0:5  \n",
    "    }\n",
    "\n",
    "    df_clean.CAMEO_INTL_2015=df_clean.CAMEO_INTL_2015.apply(lambda x: float(x))\n",
    "    df_clean['CAMEO_INTL_2015_wealth']=df_clean.CAMEO_INTL_2015.map(map_wealth)\n",
    "    df_clean['CAMEO_INTL_2015_life']=df_clean.CAMEO_INTL_2015.map(map_life)\n",
    "    df_clean.drop(labels='CAMEO_INTL_2015',axis=1,inplace=True)\n",
    "    \n",
    "    # drop other mixed values:\n",
    "\n",
    "    mixed_mask=df_support.type=='mixed'\n",
    "    all_mixed = list(df_support[mixed_mask].iloc[:,0])\n",
    "    mixed_2drop = [x for x in all_mixed if x in list(df_clean.columns)]\n",
    "    # drop all remaining mixed  features\n",
    "    \n",
    "    df_clean.drop(labels=mixed_2drop  , axis=1, inplace=True)\n",
    "    df_clean.reset_index(drop=True,inplace=True)\n",
    "    # Return the cleaned dataframe.\n",
    "    return df_clean\n",
    "    "
   ]
  },
  {
   "cell_type": "code",
   "execution_count": 6,
   "metadata": {},
   "outputs": [],
   "source": [
    "import numpy as np\n",
    "import pandas as pd\n",
    "import matplotlib.pyplot as plt\n",
    "import seaborn as sns\n",
    "\n",
    "# magic word for producing visualizations in notebook\n",
    "%matplotlib inline"
   ]
  },
  {
   "cell_type": "code",
   "execution_count": 7,
   "metadata": {},
   "outputs": [],
   "source": [
    "azdias= pd.read_csv('Udacity_AZDIAS_Subset.csv',sep=';',)\n",
    "\n",
    "# Load in the feature summary file.\n",
    "df2 = pd.read_csv('AZDIAS_Feature_Summary.csv',sep=';')"
   ]
  },
  {
   "cell_type": "code",
   "execution_count": 8,
   "metadata": {},
   "outputs": [],
   "source": [
    "azdias = clean_data(azdias,df2)"
   ]
  },
  {
   "cell_type": "code",
   "execution_count": 9,
   "metadata": {},
   "outputs": [
    {
     "name": "stdout",
     "output_type": "stream",
     "text": [
      "<class 'pandas.core.frame.DataFrame'>\n",
      "RangeIndex: 733395 entries, 0 to 733394\n",
      "Data columns (total 64 columns):\n",
      "ALTERSKATEGORIE_GROB              731412 non-null float64\n",
      "ANREDE_KZ                         733395 non-null int64\n",
      "FINANZ_MINIMALIST                 733395 non-null int64\n",
      "FINANZ_SPARER                     733395 non-null int64\n",
      "FINANZ_VORSORGER                  733395 non-null int64\n",
      "FINANZ_ANLEGER                    733395 non-null int64\n",
      "FINANZ_UNAUFFAELLIGER             733395 non-null int64\n",
      "FINANZ_HAUSBAUER                  733395 non-null int64\n",
      "GREEN_AVANTGARDE                  733395 non-null int64\n",
      "HEALTH_TYP                        715877 non-null float64\n",
      "RETOURTYP_BK_S                    733395 non-null float64\n",
      "SEMIO_SOZ                         733395 non-null int64\n",
      "SEMIO_FAM                         733395 non-null int64\n",
      "SEMIO_REL                         733395 non-null int64\n",
      "SEMIO_MAT                         733395 non-null int64\n",
      "SEMIO_VERT                        733395 non-null int64\n",
      "SEMIO_LUST                        733395 non-null int64\n",
      "SEMIO_ERL                         733395 non-null int64\n",
      "SEMIO_KULT                        733395 non-null int64\n",
      "SEMIO_RAT                         733395 non-null int64\n",
      "SEMIO_KRIT                        733395 non-null int64\n",
      "SEMIO_DOM                         733395 non-null int64\n",
      "SEMIO_KAEM                        733395 non-null int64\n",
      "SEMIO_PFLICHT                     733395 non-null int64\n",
      "SEMIO_TRADV                       733395 non-null int64\n",
      "SOHO_KZ                           733395 non-null int64\n",
      "VERS_TYP                          715877 non-null float64\n",
      "ANZ_PERSONEN                      733395 non-null float64\n",
      "ANZ_TITEL                         733395 non-null float64\n",
      "HH_EINKOMMEN_SCORE                733395 non-null float64\n",
      "W_KEIT_KIND_HH                    692752 non-null float64\n",
      "WOHNDAUER_2008                    733395 non-null float64\n",
      "ANZ_HAUSHALTE_AKTIV               730489 non-null float64\n",
      "ANZ_HH_TITEL                      732773 non-null float64\n",
      "KONSUMNAEHE                       733349 non-null float64\n",
      "MIN_GEBAEUDEJAHR                  733395 non-null float64\n",
      "OST_WEST_KZ                       733395 non-null int64\n",
      "KBA05_ANTG1                       723187 non-null float64\n",
      "KBA05_ANTG2                       723187 non-null float64\n",
      "KBA05_ANTG3                       723187 non-null float64\n",
      "KBA05_ANTG4                       723187 non-null float64\n",
      "KBA05_GBZ                         723187 non-null float64\n",
      "BALLRAUM                          732910 non-null float64\n",
      "EWDICHTE                          732910 non-null float64\n",
      "INNENSTADT                        732910 non-null float64\n",
      "GEBAEUDETYP_RASTER                733390 non-null float64\n",
      "KKK                               694076 non-null float64\n",
      "MOBI_REGIO                        723187 non-null float64\n",
      "ONLINE_AFFINITAET                 733395 non-null float64\n",
      "REGIOTYP                          694076 non-null float64\n",
      "KBA13_ANZAHL_PKW                  732737 non-null float64\n",
      "PLZ8_ANTG1                        733395 non-null float64\n",
      "PLZ8_ANTG2                        733395 non-null float64\n",
      "PLZ8_ANTG3                        733395 non-null float64\n",
      "PLZ8_ANTG4                        733395 non-null float64\n",
      "PLZ8_HHZ                          733395 non-null float64\n",
      "PLZ8_GBZ                          733395 non-null float64\n",
      "ARBEIT                            729725 non-null float64\n",
      "ORTSGR_KLS9                       729803 non-null float64\n",
      "RELAT_AB                          729725 non-null float64\n",
      "PRAEGENDE_JUGENDJAHRE_binary      723953 non-null float64\n",
      "PRAEGENDE_JUGENDJAHRE_interval    723953 non-null float64\n",
      "CAMEO_INTL_2015_wealth            730200 non-null float64\n",
      "CAMEO_INTL_2015_life              730200 non-null float64\n",
      "dtypes: float64(40), int64(24)\n",
      "memory usage: 358.1 MB\n"
     ]
    }
   ],
   "source": [
    "azdias.info()"
   ]
  },
  {
   "cell_type": "markdown",
   "metadata": {},
   "source": [
    "## Step 2: Feature Transformation\n",
    "\n",
    "### Step 2.1: Apply Feature Scaling\n",
    "\n",
    "Before we apply dimensionality reduction techniques to the data, we need to perform feature scaling so that the principal component vectors are not influenced by the natural differences in scale for features. Starting from this part of the project, you'll want to keep an eye on the [API reference page for sklearn](http://scikit-learn.org/stable/modules/classes.html) to help you navigate to all of the classes and functions that you'll need. In this substep, you'll need to check the following:\n",
    "\n",
    "- sklearn requires that data not have missing values in order for its estimators to work properly. So, before applying the scaler to your data, make sure that you've cleaned the DataFrame of the remaining missing values. This can be as simple as just removing all data points with missing data, or applying an [Imputer](http://scikit-learn.org/stable/modules/generated/sklearn.preprocessing.Imputer.html) to replace all missing values. You might also try a more complicated procedure where you temporarily remove missing values in order to compute the scaling parameters before re-introducing those missing values and applying imputation. Think about how much missing data you have and what possible effects each approach might have on your analysis, and justify your decision in the discussion section below.\n",
    "- For the actual scaling function, a [StandardScaler](http://scikit-learn.org/stable/modules/generated/sklearn.preprocessing.StandardScaler.html) instance is suggested, scaling each feature to mean 0 and standard deviation 1.\n",
    "- For these classes, you can make use of the `.fit_transform()` method to both fit a procedure to the data as well as apply the transformation to the data at the same time. Don't forget to keep the fit sklearn objects handy, since you'll be applying them to the customer demographics data towards the end of the project."
   ]
  },
  {
   "cell_type": "code",
   "execution_count": 10,
   "metadata": {},
   "outputs": [
    {
     "name": "stderr",
     "output_type": "stream",
     "text": [
      "C:\\Users\\SMART\\Anaconda3\\lib\\site-packages\\sklearn\\preprocessing\\data.py:625: DataConversionWarning: Data with input dtype int64, float64 were all converted to float64 by StandardScaler.\n",
      "  return self.partial_fit(X, y)\n"
     ]
    },
    {
     "data": {
      "text/plain": [
       "StandardScaler(copy=True, with_mean=True, with_std=True)"
      ]
     },
     "execution_count": 10,
     "metadata": {},
     "output_type": "execute_result"
    }
   ],
   "source": [
    "# If you've not yet cleaned the dataset of all NaN values, then investigate and\n",
    "# do that now.\n",
    "\n",
    "# temporarily remove missing values from azdias:\n",
    "\n",
    "from sklearn.preprocessing import StandardScaler\n",
    "\n",
    "scaler = StandardScaler()\n",
    "\n",
    "scaler.fit(azdias)\n",
    "\n"
   ]
  },
  {
   "cell_type": "code",
   "execution_count": 11,
   "metadata": {},
   "outputs": [
    {
     "name": "stderr",
     "output_type": "stream",
     "text": [
      "C:\\Users\\SMART\\Anaconda3\\lib\\site-packages\\ipykernel_launcher.py:3: DataConversionWarning: Data with input dtype int64, float64 were all converted to float64 by StandardScaler.\n",
      "  This is separate from the ipykernel package so we can avoid doing imports until\n"
     ]
    }
   ],
   "source": [
    "# Apply feature scaling to the general population demographics data.\n",
    "\n",
    "azdias = pd.DataFrame(scaler.transform(azdias.fillna(method='ffill')),columns=azdias.columns)"
   ]
  },
  {
   "cell_type": "markdown",
   "metadata": {},
   "source": [
    "### Discussion 2.1: Apply Feature Scaling\n",
    "\n",
    "```StandardScaler``` is used to perform the scaling. first, the nan's values are ignored to calculate the scaling parameters. then the nan values are filled using a simple forward fill for each column of data ( the filling is applied considering the values in each column). after filling the nan's the whole data is scaled using the previously obtained scaling parameters "
   ]
  },
  {
   "cell_type": "markdown",
   "metadata": {},
   "source": [
    "### Step 2.2: Perform Dimensionality Reduction\n",
    "\n",
    "On your scaled data, you are now ready to apply dimensionality reduction techniques.\n",
    "\n",
    "- Use sklearn's [PCA](http://scikit-learn.org/stable/modules/generated/sklearn.decomposition.PCA.html) class to apply principal component analysis on the data, thus finding the vectors of maximal variance in the data. To start, you should not set any parameters (so all components are computed) or set a number of components that is at least half the number of features (so there's enough features to see the general trend in variability).\n",
    "- Check out the ratio of variance explained by each principal component as well as the cumulative variance explained. Try plotting the cumulative or sequential values using matplotlib's [`plot()`](https://matplotlib.org/api/_as_gen/matplotlib.pyplot.plot.html) function. Based on what you find, select a value for the number of transformed features you'll retain for the clustering part of the project.\n",
    "- Once you've made a choice for the number of components to keep, make sure you re-fit a PCA instance to perform the decided-on transformation."
   ]
  },
  {
   "cell_type": "code",
   "execution_count": 12,
   "metadata": {},
   "outputs": [
    {
     "data": {
      "text/plain": [
       "PCA(copy=True, iterated_power='auto', n_components=None, random_state=None,\n",
       "  svd_solver='auto', tol=0.0, whiten=False)"
      ]
     },
     "execution_count": 12,
     "metadata": {},
     "output_type": "execute_result"
    }
   ],
   "source": [
    "# Apply PCA to the data.\n",
    "from sklearn.decomposition import PCA\n",
    "\n",
    "pca = PCA()\n",
    "\n",
    "pca.fit(azdias)"
   ]
  },
  {
   "cell_type": "code",
   "execution_count": 13,
   "metadata": {},
   "outputs": [
    {
     "data": {
      "image/png": "[encoded data removed]",
      "text/plain": [
       "<Figure size 720x432 with 1 Axes>"
      ]
     },
     "metadata": {
      "needs_background": "light"
     },
     "output_type": "display_data"
    }
   ],
   "source": [
    "# Investigate the variance accounted for by each principal component.\n",
    "\n",
    "def scree_plot(pca):\n",
    "    '''\n",
    "    Creates a scree plot associated with the principal components \n",
    "    \n",
    "    INPUT: pca - the result of instantian of PCA in scikit learn\n",
    "            \n",
    "    OUTPUT:\n",
    "            None\n",
    "    '''\n",
    "    num_components = len(pca.explained_variance_ratio_)\n",
    "    ind = np.arange(num_components)\n",
    "    vals = pca.explained_variance_ratio_\n",
    "    \n",
    " \n",
    "    plt.figure(figsize=(10, 6))\n",
    "    ax = plt.subplot(111)\n",
    "    cumvals = np.cumsum(vals)\n",
    "    ax.bar(ind, vals)\n",
    "    ax.plot(ind, cumvals)\n",
    "    for i in range(num_components):\n",
    "        ax.annotate(r\"%s%%\" % ((str(vals[i]*100)[:4])), (ind[i]+0.2, vals[i]), va=\"bottom\", ha=\"center\", fontsize=12)\n",
    " \n",
    "    ax.xaxis.set_tick_params(width=0)\n",
    "    ax.yaxis.set_tick_params(width=2, length=12)\n",
    " \n",
    "    ax.set_xlabel(\"Principal Component\")\n",
    "    ax.set_ylabel(\"Variance Explained (%)\")\n",
    "    plt.title('Explained Variance Per Principal Component')\n",
    "    \n",
    "scree_plot(pca)"
   ]
  },
  {
   "cell_type": "code",
   "execution_count": 14,
   "metadata": {},
   "outputs": [
    {
     "data": {
      "text/plain": [
       "0.9999999999999999"
      ]
     },
     "execution_count": 14,
     "metadata": {},
     "output_type": "execute_result"
    }
   ],
   "source": [
    "pca.explained_variance_ratio_.sum()"
   ]
  },
  {
   "cell_type": "code",
   "execution_count": 16,
   "metadata": {},
   "outputs": [],
   "source": [
    "# Re-apply PCA to the data while selecting for number of components to retain.\n",
    "for comp in range(20, azdias.shape[1]):\n",
    "    pca = PCA(n_components=comp)\n",
    "    pca.fit(azdias)\n",
    "    if pca.explained_variance_ratio_.sum() >= 0.85:\n",
    "        break\n"
   ]
  },
  {
   "cell_type": "code",
   "execution_count": 17,
   "metadata": {},
   "outputs": [
    {
     "data": {
      "text/plain": [
       "26"
      ]
     },
     "execution_count": 17,
     "metadata": {},
     "output_type": "execute_result"
    }
   ],
   "source": [
    "comp"
   ]
  },
  {
   "cell_type": "code",
   "execution_count": 18,
   "metadata": {},
   "outputs": [
    {
     "data": {
      "image/png": "[encoded data removed]",
      "text/plain": [
       "<Figure size 720x432 with 1 Axes>"
      ]
     },
     "metadata": {
      "needs_background": "light"
     },
     "output_type": "display_data"
    }
   ],
   "source": [
    "scree_plot(pca)"
   ]
  },
  {
   "cell_type": "code",
   "execution_count": 19,
   "metadata": {},
   "outputs": [],
   "source": [
    "n_comp = comp\n",
    "columns = azdias.columns\n",
    "azdias=pca.transform(azdias)"
   ]
  },
  {
   "cell_type": "markdown",
   "metadata": {},
   "source": [
    "### Discussion 2.2: Perform Dimensionality Reduction\n",
    "\n",
    "the number of components to retained were chosen based on achieving a minimum of 85% commultive variance explained. this led to choosing 26 compoemnts out of 64 which is about 60% reduction in total components. notice that the scree plot shows that you can get variance explained at almost 70% level by keeping only 10 components"
   ]
  },
  {
   "cell_type": "markdown",
   "metadata": {},
   "source": [
    "### Step 2.3: Interpret Principal Components\n",
    "\n",
    "Now that we have our transformed principal components, it's a nice idea to check out the weight of each variable on the first few components to see if they can be interpreted in some fashion.\n",
    "\n",
    "As a reminder, each principal component is a unit vector that points in the direction of highest variance (after accounting for the variance captured by earlier principal components). The further a weight is from zero, the more the principal component is in the direction of the corresponding feature. If two features have large weights of the same sign (both positive or both negative), then increases in one tend expect to be associated with increases in the other. To contrast, features with different signs can be expected to show a negative correlation: increases in one variable should result in a decrease in the other.\n",
    "\n",
    "- To investigate the features, you should map each weight to their corresponding feature name, then sort the features according to weight. The most interesting features for each principal component, then, will be those at the beginning and end of the sorted list. Use the data dictionary document to help you understand these most prominent features, their relationships, and what a positive or negative value on the principal component might indicate.\n",
    "- You should investigate and interpret feature associations from the first three principal components in this substep. To help facilitate this, you should write a function that you can call at any time to print the sorted list of feature weights, for the *i*-th principal component. This might come in handy in the next step of the project, when you interpret the tendencies of the discovered clusters."
   ]
  },
  {
   "cell_type": "code",
   "execution_count": 20,
   "metadata": {},
   "outputs": [],
   "source": [
    "def ordered_weight(pca,columns,pca_comp,topk):\n",
    "    '''\n",
    "    reates a pandas data frame which shows the 'topk' weight and their corresponding feature name. this gives both the \n",
    "    largest topk weights and also the smallest topk in different columns in the data frame.  \n",
    "    \n",
    "    INPUT: pca - the result of instantiation of PCA in scikit learn\n",
    "           columns - list of columns name for the original features\n",
    "           pca_comp - the ith pca component to create the ordered data frame \n",
    "           topk - number of largest and smallest weights to be shown in the date frame \n",
    "            \n",
    "    OUTPUT:\n",
    "            ordered_df - data frame of ordered weights and feature columns  \n",
    "    '''\n",
    "    pca_weight = pca.components_[pca_comp-1,:]\n",
    "    \n",
    "    # ordered largest topk \n",
    "    weight_pos=np.sort(pca_weight)[::-1][0:topk]\n",
    "    columns_pos = columns[np.argsort(pca_weight)[::-1]][0:topk]\n",
    "    \n",
    "    # ordered smallest topk \n",
    "    weight_neg=np.sort(pca_weight)[0:topk]\n",
    "    columns_neg = columns[np.argsort(pca_weight)][0:topk]\n",
    "    \n",
    "    # create data frame with ordered information \n",
    "    \n",
    "    d= {\n",
    "        'weight_pos':weight_pos,\n",
    "        'col_pos': columns_pos,\n",
    "        'weight_neg':weight_neg,\n",
    "        'col_neg': columns_neg\n",
    "        \n",
    "        \n",
    "    }\n",
    "    ordered_df = pd.DataFrame(d)\n",
    "    \n",
    "    return ordered_df\n",
    "\n"
   ]
  },
  {
   "cell_type": "code",
   "execution_count": 21,
   "metadata": {},
   "outputs": [],
   "source": [
    "\n",
    "k = 5\n"
   ]
  },
  {
   "cell_type": "code",
   "execution_count": 22,
   "metadata": {},
   "outputs": [
    {
     "data": {
      "text/html": [
       "<div>\n",
       "<style scoped>\n",
       "    .dataframe tbody tr th:only-of-type {\n",
       "        vertical-align: middle;\n",
       "    }\n",
       "\n",
       "    .dataframe tbody tr th {\n",
       "        vertical-align: top;\n",
       "    }\n",
       "\n",
       "    .dataframe thead th {\n",
       "        text-align: right;\n",
       "    }\n",
       "</style>\n",
       "<table border=\"1\" class=\"dataframe\">\n",
       "  <thead>\n",
       "    <tr style=\"text-align: right;\">\n",
       "      <th></th>\n",
       "      <th>weight_pos</th>\n",
       "      <th>col_pos</th>\n",
       "      <th>weight_neg</th>\n",
       "      <th>col_neg</th>\n",
       "    </tr>\n",
       "  </thead>\n",
       "  <tbody>\n",
       "    <tr>\n",
       "      <th>0</th>\n",
       "      <td>0.224942</td>\n",
       "      <td>PLZ8_ANTG3</td>\n",
       "      <td>-0.241090</td>\n",
       "      <td>MOBI_REGIO</td>\n",
       "    </tr>\n",
       "    <tr>\n",
       "      <th>1</th>\n",
       "      <td>0.218102</td>\n",
       "      <td>PLZ8_ANTG4</td>\n",
       "      <td>-0.225035</td>\n",
       "      <td>PLZ8_ANTG1</td>\n",
       "    </tr>\n",
       "    <tr>\n",
       "      <th>2</th>\n",
       "      <td>0.205565</td>\n",
       "      <td>CAMEO_INTL_2015_wealth</td>\n",
       "      <td>-0.224673</td>\n",
       "      <td>KBA05_ANTG1</td>\n",
       "    </tr>\n",
       "    <tr>\n",
       "      <th>3</th>\n",
       "      <td>0.202519</td>\n",
       "      <td>HH_EINKOMMEN_SCORE</td>\n",
       "      <td>-0.219200</td>\n",
       "      <td>FINANZ_MINIMALIST</td>\n",
       "    </tr>\n",
       "    <tr>\n",
       "      <th>4</th>\n",
       "      <td>0.194836</td>\n",
       "      <td>ORTSGR_KLS9</td>\n",
       "      <td>-0.216203</td>\n",
       "      <td>KBA05_GBZ</td>\n",
       "    </tr>\n",
       "  </tbody>\n",
       "</table>\n",
       "</div>"
      ],
      "text/plain": [
       "   weight_pos                 col_pos  weight_neg            col_neg\n",
       "0    0.224942              PLZ8_ANTG3   -0.241090         MOBI_REGIO\n",
       "1    0.218102              PLZ8_ANTG4   -0.225035         PLZ8_ANTG1\n",
       "2    0.205565  CAMEO_INTL_2015_wealth   -0.224673        KBA05_ANTG1\n",
       "3    0.202519      HH_EINKOMMEN_SCORE   -0.219200  FINANZ_MINIMALIST\n",
       "4    0.194836             ORTSGR_KLS9   -0.216203          KBA05_GBZ"
      ]
     },
     "execution_count": 22,
     "metadata": {},
     "output_type": "execute_result"
    }
   ],
   "source": [
    "# Map weights for the first principal component to corresponding feature names\n",
    "# and then print the linked values, sorted by weight.\n",
    "# HINT: Try defining a function here or in a new cell that you can reuse in the\n",
    "# other cells.\n",
    "ith_comp = 1\n",
    "df_ordered = ordered_weight(pca,columns,ith_comp,k)\n",
    "df_ordered"
   ]
  },
  {
   "cell_type": "code",
   "execution_count": 23,
   "metadata": {},
   "outputs": [
    {
     "data": {
      "text/html": [
       "<div>\n",
       "<style scoped>\n",
       "    .dataframe tbody tr th:only-of-type {\n",
       "        vertical-align: middle;\n",
       "    }\n",
       "\n",
       "    .dataframe tbody tr th {\n",
       "        vertical-align: top;\n",
       "    }\n",
       "\n",
       "    .dataframe thead th {\n",
       "        text-align: right;\n",
       "    }\n",
       "</style>\n",
       "<table border=\"1\" class=\"dataframe\">\n",
       "  <thead>\n",
       "    <tr style=\"text-align: right;\">\n",
       "      <th></th>\n",
       "      <th>weight_pos</th>\n",
       "      <th>col_pos</th>\n",
       "      <th>weight_neg</th>\n",
       "      <th>col_neg</th>\n",
       "    </tr>\n",
       "  </thead>\n",
       "  <tbody>\n",
       "    <tr>\n",
       "      <th>0</th>\n",
       "      <td>0.255759</td>\n",
       "      <td>ALTERSKATEGORIE_GROB</td>\n",
       "      <td>-0.256409</td>\n",
       "      <td>SEMIO_REL</td>\n",
       "    </tr>\n",
       "    <tr>\n",
       "      <th>1</th>\n",
       "      <td>0.229619</td>\n",
       "      <td>SEMIO_ERL</td>\n",
       "      <td>-0.245744</td>\n",
       "      <td>PRAEGENDE_JUGENDJAHRE_interval</td>\n",
       "    </tr>\n",
       "    <tr>\n",
       "      <th>2</th>\n",
       "      <td>0.228691</td>\n",
       "      <td>FINANZ_VORSORGER</td>\n",
       "      <td>-0.234262</td>\n",
       "      <td>FINANZ_SPARER</td>\n",
       "    </tr>\n",
       "    <tr>\n",
       "      <th>3</th>\n",
       "      <td>0.180972</td>\n",
       "      <td>SEMIO_LUST</td>\n",
       "      <td>-0.228784</td>\n",
       "      <td>SEMIO_TRADV</td>\n",
       "    </tr>\n",
       "    <tr>\n",
       "      <th>4</th>\n",
       "      <td>0.165738</td>\n",
       "      <td>RETOURTYP_BK_S</td>\n",
       "      <td>-0.227991</td>\n",
       "      <td>SEMIO_PFLICHT</td>\n",
       "    </tr>\n",
       "  </tbody>\n",
       "</table>\n",
       "</div>"
      ],
      "text/plain": [
       "   weight_pos               col_pos  weight_neg  \\\n",
       "0    0.255759  ALTERSKATEGORIE_GROB   -0.256409   \n",
       "1    0.229619             SEMIO_ERL   -0.245744   \n",
       "2    0.228691      FINANZ_VORSORGER   -0.234262   \n",
       "3    0.180972            SEMIO_LUST   -0.228784   \n",
       "4    0.165738        RETOURTYP_BK_S   -0.227991   \n",
       "\n",
       "                          col_neg  \n",
       "0                       SEMIO_REL  \n",
       "1  PRAEGENDE_JUGENDJAHRE_interval  \n",
       "2                   FINANZ_SPARER  \n",
       "3                     SEMIO_TRADV  \n",
       "4                   SEMIO_PFLICHT  "
      ]
     },
     "execution_count": 23,
     "metadata": {},
     "output_type": "execute_result"
    }
   ],
   "source": [
    "# Map weights for the second principal component to corresponding feature names\n",
    "# and then print the linked values, sorted by weight.\n",
    "ith_comp = 2\n",
    "df_ordered = ordered_weight(pca,columns,ith_comp,k)\n",
    "df_ordered"
   ]
  },
  {
   "cell_type": "code",
   "execution_count": 24,
   "metadata": {},
   "outputs": [
    {
     "data": {
      "text/html": [
       "<div>\n",
       "<style scoped>\n",
       "    .dataframe tbody tr th:only-of-type {\n",
       "        vertical-align: middle;\n",
       "    }\n",
       "\n",
       "    .dataframe tbody tr th {\n",
       "        vertical-align: top;\n",
       "    }\n",
       "\n",
       "    .dataframe thead th {\n",
       "        text-align: right;\n",
       "    }\n",
       "</style>\n",
       "<table border=\"1\" class=\"dataframe\">\n",
       "  <thead>\n",
       "    <tr style=\"text-align: right;\">\n",
       "      <th></th>\n",
       "      <th>weight_pos</th>\n",
       "      <th>col_pos</th>\n",
       "      <th>weight_neg</th>\n",
       "      <th>col_neg</th>\n",
       "    </tr>\n",
       "  </thead>\n",
       "  <tbody>\n",
       "    <tr>\n",
       "      <th>0</th>\n",
       "      <td>0.369131</td>\n",
       "      <td>ANREDE_KZ</td>\n",
       "      <td>-0.337821</td>\n",
       "      <td>SEMIO_KAEM</td>\n",
       "    </tr>\n",
       "    <tr>\n",
       "      <th>1</th>\n",
       "      <td>0.347745</td>\n",
       "      <td>SEMIO_VERT</td>\n",
       "      <td>-0.313717</td>\n",
       "      <td>SEMIO_DOM</td>\n",
       "    </tr>\n",
       "    <tr>\n",
       "      <th>2</th>\n",
       "      <td>0.263380</td>\n",
       "      <td>SEMIO_SOZ</td>\n",
       "      <td>-0.270995</td>\n",
       "      <td>SEMIO_KRIT</td>\n",
       "    </tr>\n",
       "    <tr>\n",
       "      <th>3</th>\n",
       "      <td>0.251127</td>\n",
       "      <td>SEMIO_FAM</td>\n",
       "      <td>-0.217993</td>\n",
       "      <td>SEMIO_RAT</td>\n",
       "    </tr>\n",
       "    <tr>\n",
       "      <th>4</th>\n",
       "      <td>0.232864</td>\n",
       "      <td>SEMIO_KULT</td>\n",
       "      <td>-0.188024</td>\n",
       "      <td>FINANZ_ANLEGER</td>\n",
       "    </tr>\n",
       "  </tbody>\n",
       "</table>\n",
       "</div>"
      ],
      "text/plain": [
       "   weight_pos     col_pos  weight_neg         col_neg\n",
       "0    0.369131   ANREDE_KZ   -0.337821      SEMIO_KAEM\n",
       "1    0.347745  SEMIO_VERT   -0.313717       SEMIO_DOM\n",
       "2    0.263380   SEMIO_SOZ   -0.270995      SEMIO_KRIT\n",
       "3    0.251127   SEMIO_FAM   -0.217993       SEMIO_RAT\n",
       "4    0.232864  SEMIO_KULT   -0.188024  FINANZ_ANLEGER"
      ]
     },
     "execution_count": 24,
     "metadata": {},
     "output_type": "execute_result"
    }
   ],
   "source": [
    "# Map weights for the third principal component to corresponding feature names\n",
    "# and then print the linked values, sorted by weight.\n",
    "\n",
    "ith_comp = 3\n",
    "df_ordered = ordered_weight(pca,columns,ith_comp,k)\n",
    "df_ordered"
   ]
  },
  {
   "cell_type": "markdown",
   "metadata": {},
   "source": [
    "### Discussion 2.3: Interpret Principal Components\n",
    "\n",
    "#### first component:\n",
    "\n",
    "the first principle component is positively correlated with: \n",
    "- the increase in the share of multi-family houses\n",
    "- the increase in the size of the community\n",
    "- the high movement pattern.  \n",
    "\n",
    "in contrast, the first principle component is negatively correlated with: \n",
    "- the wealth of the household \n",
    "- net income. \n",
    "\n",
    "#### second component:\n",
    "\n",
    "the second  principal component is positively correlated with: \n",
    "-  the person's age \n",
    "- personality being  more systems-based thinking, religious, and money saver\n",
    "- financially less prepared person.  \n",
    "\n",
    "in contrast, the second principal component is negatively correlated with: \n",
    "- personality being  sensual \n",
    "- personality being a crazy shopper\n",
    "\n",
    "#### thrid component:\n",
    "\n",
    "the third   principal component is positively correlated with: \n",
    "-  the person's being female \n",
    "- personality being  dominant-minded, rational, and economically more investor \n",
    "  \n",
    "\n",
    "in contrast, the  third principal component is negatively correlated with: \n",
    "- personality being  dreamful, socially minded, and family oriented\n",
    "\n",
    "\n",
    "\n",
    "**so in summary, the first component describes a low-class community with small net income, the second describes the personality of a conservative person. the third describes the gender and some other personal traits** "
   ]
  },
  {
   "cell_type": "markdown",
   "metadata": {},
   "source": [
    "## Step 3: Clustering\n",
    "\n",
    "### Step 3.1: Apply Clustering to General Population\n",
    "\n",
    "You've assessed and cleaned the demographics data, then scaled and transformed them. Now, it's time to see how the data clusters in the principal components space. In this substep, you will apply k-means clustering to the dataset and use the average within-cluster distances from each point to their assigned cluster's centroid to decide on a number of clusters to keep.\n",
    "\n",
    "- Use sklearn's [KMeans](http://scikit-learn.org/stable/modules/generated/sklearn.cluster.KMeans.html#sklearn.cluster.KMeans) class to perform k-means clustering on the PCA-transformed data.\n",
    "- Then, compute the average difference from each point to its assigned cluster's center. **Hint**: The KMeans object's `.score()` method might be useful here, but note that in sklearn, scores tend to be defined so that larger is better. Try applying it to a small, toy dataset, or use an internet search to help your understanding.\n",
    "- Perform the above two steps for a number of different cluster counts. You can then see how the average distance decreases with an increasing number of clusters. However, each additional cluster provides a smaller net benefit. Use this fact to select a final number of clusters in which to group the data. **Warning**: because of the large size of the dataset, it can take a long time for the algorithm to resolve. The more clusters to fit, the longer the algorithm will take. You should test for cluster counts through at least 10 clusters to get the full picture, but you shouldn't need to test for a number of clusters above about 30.\n",
    "- Once you've selected a final number of clusters to use, re-fit a KMeans instance to perform the clustering operation. Make sure that you also obtain the cluster assignments for the general demographics data, since you'll be using them in the final Step 3.3."
   ]
  },
  {
   "cell_type": "code",
   "execution_count": 28,
   "metadata": {},
   "outputs": [
    {
     "name": "stdout",
     "output_type": "stream",
     "text": [
      "at  3 out of  25\n",
      "at  4 out of  25\n",
      "at  5 out of  25\n",
      "at  6 out of  25\n",
      "at  7 out of  25\n",
      "at  8 out of  25\n",
      "at  9 out of  25\n",
      "at  10 out of  25\n",
      "at  11 out of  25\n",
      "at  12 out of  25\n",
      "at  13 out of  25\n",
      "at  14 out of  25\n",
      "at  15 out of  25\n",
      "at  16 out of  25\n",
      "at  17 out of  25\n",
      "at  18 out of  25\n",
      "at  19 out of  25\n",
      "at  20 out of  25\n",
      "at  21 out of  25\n",
      "at  22 out of  25\n",
      "at  23 out of  25\n",
      "at  24 out of  25\n",
      "at  25 out of  25\n"
     ]
    }
   ],
   "source": [
    "# Over a number of different cluster counts...\n",
    "from sklearn.cluster import KMeans\n",
    "from sklearn.metrics import silhouette_score\n",
    "k_values = range(3,26)\n",
    "\n",
    "score_kmeans=[]\n",
    "score_kmeans2=[]\n",
    "for k in k_values:\n",
    "    print('at ',k,'out of ',k_values[-1])\n",
    "    kmeans = KMeans(n_clusters=k,n_jobs=-1,n_init=8,tol=.001,random_state=1,precompute_distances=True)\n",
    "    kmeans.fit(azdias)\n",
    "    predictions = kmeans.predict(azdias)\n",
    "\n",
    "#     score_kmeans.append(silhouette_score(azdias, predictions)) \n",
    "    score_kmeans.append(kmeans.score(azdias)) \n",
    "    score_kmeans2.append((kmeans.inertia_)/len(azdias))\n",
    "    # run k-means clustering on the data and...\n",
    "    \n",
    "    \n",
    "    # compute the average within-cluster distances.\n",
    "    \n"
   ]
  },
  {
   "cell_type": "code",
   "execution_count": 34,
   "metadata": {},
   "outputs": [
    {
     "data": {
      "image/png": "[encoded data removed]",
      "text/plain": [
       "<Figure size 1152x432 with 1 Axes>"
      ]
     },
     "metadata": {
      "needs_background": "light"
     },
     "output_type": "display_data"
    },
    {
     "data": {
      "image/png": "[encoded data removed]",
      "text/plain": [
       "<Figure size 1152x432 with 1 Axes>"
      ]
     },
     "metadata": {
      "needs_background": "light"
     },
     "output_type": "display_data"
    }
   ],
   "source": [
    "# Investigate the change in within-cluster distance across number of clusters.\n",
    "# HINT: Use matplotlib's plot function to visualize this relationship.\n",
    "xticks = k_values\n",
    "\n",
    "fig, ax = plt.subplots(figsize=(16, 6))\n",
    "\n",
    "plt.plot(k_values, score_kmeans)\n",
    "ax.set_xticks(xticks, minor=True)\n",
    "ax.xaxis.grid(True, which='both')              \n",
    "plt.xlabel('number of clusters')\n",
    "plt.ylabel('kmeans score')\n",
    "plt.show()\n",
    "\n",
    "\n",
    "fig, ax = plt.subplots(figsize=(16, 6))\n",
    "\n",
    "plt.plot(k_values, score_kmeans2)\n",
    "ax.set_xticks(xticks, minor=True)\n",
    "ax.xaxis.grid(True, which='both')  \n",
    "plt.xlabel('number of clusters')\n",
    "plt.ylabel('mean squared error')\n",
    "plt.show()"
   ]
  },
  {
   "cell_type": "code",
   "execution_count": 35,
   "metadata": {},
   "outputs": [
    {
     "data": {
      "text/plain": [
       "KMeans(algorithm='auto', copy_x=True, init='k-means++', max_iter=300,\n",
       "    n_clusters=17, n_init=8, n_jobs=-1, precompute_distances=True,\n",
       "    random_state=1, tol=0.001, verbose=0)"
      ]
     },
     "execution_count": 35,
     "metadata": {},
     "output_type": "execute_result"
    }
   ],
   "source": [
    "# Re-fit the k-means model with the selected number of clusters and obtain\n",
    "# cluster predictions for the general population demographics data.\n",
    "k=17\n",
    "kmeans = KMeans(n_clusters=k,n_jobs=-1,n_init=8,tol=.001,random_state=1,precompute_distances=True)\n",
    "kmeans.fit(azdias)\n"
   ]
  },
  {
   "cell_type": "code",
   "execution_count": 46,
   "metadata": {},
   "outputs": [],
   "source": [
    "azdias_clusters = kmeans.predict(azdias)"
   ]
  },
  {
   "cell_type": "markdown",
   "metadata": {},
   "source": [
    "### Discussion 3.1: Apply Clustering to General Population\n",
    "\n",
    "based on the value of the mean squared error, it can be seen that a good value that compromises the diminishing return of error reduction is about 17 clusters. so teh data is composed of 17 clusters "
   ]
  },
  {
   "cell_type": "markdown",
   "metadata": {},
   "source": [
    "### Step 3.2: Apply All Steps to the Customer Data\n",
    "\n",
    "Now that you have clusters and cluster centers for the general population, it's time to see how the customer data maps on to those clusters. Take care to not confuse this for re-fitting all of the models to the customer data. Instead, you're going to use the fits from the general population to clean, transform, and cluster the customer data. In the last step of the project, you will interpret how the general population fits apply to the customer data.\n",
    "\n",
    "- Don't forget when loading in the customers data, that it is semicolon (`;`) delimited.\n",
    "- Apply the same feature wrangling, selection, and engineering steps to the customer demographics using the `clean_data()` function you created earlier. (You can assume that the customer demographics data has similar meaning behind missing data patterns as the general demographics data.)\n",
    "- Use the sklearn objects from the general demographics data, and apply their transformations to the customers data. That is, you should not be using a `.fit()` or `.fit_transform()` method to re-fit the old objects, nor should you be creating new sklearn objects! Carry the data through the feature scaling, PCA, and clustering steps, obtaining cluster assignments for all of the data in the customer demographics data."
   ]
  },
  {
   "cell_type": "code",
   "execution_count": 36,
   "metadata": {},
   "outputs": [],
   "source": [
    "# Load in the customer demographics data.\n",
    "customers = pd.read_csv('Udacity_CUSTOMERS_Subset.csv',sep=';')"
   ]
  },
  {
   "cell_type": "code",
   "execution_count": 37,
   "metadata": {},
   "outputs": [],
   "source": [
    "# Apply preprocessing, feature transformation, and clustering from the general\n",
    "# demographics onto the customer data, obtaining cluster predictions for the\n",
    "# customer demographics data.\n",
    "\n",
    "customers = clean_data(customers,df2)\n",
    "\n"
   ]
  },
  {
   "cell_type": "code",
   "execution_count": 38,
   "metadata": {},
   "outputs": [
    {
     "name": "stdout",
     "output_type": "stream",
     "text": [
      "<class 'pandas.core.frame.DataFrame'>\n",
      "RangeIndex: 130927 entries, 0 to 130926\n",
      "Data columns (total 64 columns):\n",
      "ALTERSKATEGORIE_GROB              130729 non-null float64\n",
      "ANREDE_KZ                         130927 non-null int64\n",
      "FINANZ_MINIMALIST                 130927 non-null int64\n",
      "FINANZ_SPARER                     130927 non-null int64\n",
      "FINANZ_VORSORGER                  130927 non-null int64\n",
      "FINANZ_ANLEGER                    130927 non-null int64\n",
      "FINANZ_UNAUFFAELLIGER             130927 non-null int64\n",
      "FINANZ_HAUSBAUER                  130927 non-null int64\n",
      "GREEN_AVANTGARDE                  130927 non-null int64\n",
      "HEALTH_TYP                        129240 non-null float64\n",
      "RETOURTYP_BK_S                    130927 non-null float64\n",
      "SEMIO_SOZ                         130927 non-null int64\n",
      "SEMIO_FAM                         130927 non-null int64\n",
      "SEMIO_REL                         130927 non-null int64\n",
      "SEMIO_MAT                         130927 non-null int64\n",
      "SEMIO_VERT                        130927 non-null int64\n",
      "SEMIO_LUST                        130927 non-null int64\n",
      "SEMIO_ERL                         130927 non-null int64\n",
      "SEMIO_KULT                        130927 non-null int64\n",
      "SEMIO_RAT                         130927 non-null int64\n",
      "SEMIO_KRIT                        130927 non-null int64\n",
      "SEMIO_DOM                         130927 non-null int64\n",
      "SEMIO_KAEM                        130927 non-null int64\n",
      "SEMIO_PFLICHT                     130927 non-null int64\n",
      "SEMIO_TRADV                       130927 non-null int64\n",
      "SOHO_KZ                           130927 non-null int64\n",
      "VERS_TYP                          129240 non-null float64\n",
      "ANZ_PERSONEN                      130927 non-null float64\n",
      "ANZ_TITEL                         130927 non-null float64\n",
      "HH_EINKOMMEN_SCORE                130927 non-null float64\n",
      "W_KEIT_KIND_HH                    125618 non-null float64\n",
      "WOHNDAUER_2008                    130927 non-null float64\n",
      "ANZ_HAUSHALTE_AKTIV               130504 non-null float64\n",
      "ANZ_HH_TITEL                      130713 non-null float64\n",
      "KONSUMNAEHE                       130922 non-null float64\n",
      "MIN_GEBAEUDEJAHR                  130927 non-null float64\n",
      "OST_WEST_KZ                       130927 non-null int64\n",
      "KBA05_ANTG1                       129323 non-null float64\n",
      "KBA05_ANTG2                       129323 non-null float64\n",
      "KBA05_ANTG3                       129323 non-null float64\n",
      "KBA05_ANTG4                       129323 non-null float64\n",
      "KBA05_GBZ                         129321 non-null float64\n",
      "BALLRAUM                          130903 non-null float64\n",
      "EWDICHTE                          130903 non-null float64\n",
      "INNENSTADT                        130903 non-null float64\n",
      "GEBAEUDETYP_RASTER                130927 non-null float64\n",
      "KKK                               124589 non-null float64\n",
      "MOBI_REGIO                        129323 non-null float64\n",
      "ONLINE_AFFINITAET                 130927 non-null float64\n",
      "REGIOTYP                          124589 non-null float64\n",
      "KBA13_ANZAHL_PKW                  130885 non-null float64\n",
      "PLZ8_ANTG1                        130927 non-null float64\n",
      "PLZ8_ANTG2                        130927 non-null float64\n",
      "PLZ8_ANTG3                        130927 non-null float64\n",
      "PLZ8_ANTG4                        130927 non-null float64\n",
      "PLZ8_HHZ                          130927 non-null float64\n",
      "PLZ8_GBZ                          130927 non-null float64\n",
      "ARBEIT                            130417 non-null float64\n",
      "ORTSGR_KLS9                       130435 non-null float64\n",
      "RELAT_AB                          130417 non-null float64\n",
      "PRAEGENDE_JUGENDJAHRE_binary      130428 non-null float64\n",
      "PRAEGENDE_JUGENDJAHRE_interval    130428 non-null float64\n",
      "CAMEO_INTL_2015_wealth            130733 non-null float64\n",
      "CAMEO_INTL_2015_life              130733 non-null float64\n",
      "dtypes: float64(40), int64(24)\n",
      "memory usage: 63.9 MB\n"
     ]
    }
   ],
   "source": [
    "customers.info()"
   ]
  },
  {
   "cell_type": "code",
   "execution_count": 40,
   "metadata": {},
   "outputs": [
    {
     "name": "stderr",
     "output_type": "stream",
     "text": [
      "C:\\Users\\SMART\\Anaconda3\\lib\\site-packages\\ipykernel_launcher.py:1: DataConversionWarning: Data with input dtype int64, float64 were all converted to float64 by StandardScaler.\n",
      "  \"\"\"Entry point for launching an IPython kernel.\n"
     ]
    }
   ],
   "source": [
    "customers =pd.DataFrame(scaler.transform(customers.fillna(method='ffill')),columns=customers.columns)"
   ]
  },
  {
   "cell_type": "code",
   "execution_count": 41,
   "metadata": {},
   "outputs": [],
   "source": [
    "customers = pca.transform(customers)"
   ]
  },
  {
   "cell_type": "code",
   "execution_count": 42,
   "metadata": {},
   "outputs": [],
   "source": [
    "customers_clusters=kmeans.predict(customers)"
   ]
  },
  {
   "cell_type": "code",
   "execution_count": 67,
   "metadata": {},
   "outputs": [
    {
     "name": "stdout",
     "output_type": "stream",
     "text": [
      "percentage of data points in each clusters for azdias (sorted):\n",
      "[9.5 9.1 9.  9.  7.1 6.8 6.7 6.4 6.4 5.7 5.1 4.7 4.6 4.4 4.3 0.8 0.4]\n",
      "[ 3  1  4  2  0 15 11  6 13  5  9 14 16  8 10 12  7]\n"
     ]
    }
   ],
   "source": [
    "print('percentage of data points in each clusters for azdias (sorted):')\n",
    "print(np.round(np.sort((100*azdias_cluster_count/len(azdias)))[::-1],decimals=1))\n",
    "print(np.argsort((100*azdias_cluster_count/len(azdias)))[::-1])"
   ]
  },
  {
   "cell_type": "markdown",
   "metadata": {},
   "source": [
    "### Step 3.3: Compare Customer Data to Demographics Data\n",
    "\n",
    "At this point, you have clustered data based on demographics of the general population of Germany, and seen how the customer data for a mail-order sales company maps onto those demographic clusters. In this final substep, you will compare the two cluster distributions to see where the strongest customer base for the company is.\n",
    "\n",
    "Consider the proportion of persons in each cluster for the general population, and the proportions for the customers. If we think the company's customer base to be universal, then the cluster assignment proportions should be fairly similar between the two. If there are only particular segments of the population that are interested in the company's products, then we should see a mismatch from one to the other. If there is a higher proportion of persons in a cluster for the customer data compared to the general population (e.g. 5% of persons are assigned to a cluster for the general population, but 15% of the customer data is closest to that cluster's centroid) then that suggests the people in that cluster to be a target audience for the company. On the other hand, the proportion of the data in a cluster being larger in the general population than the customer data (e.g. only 2% of customers closest to a population centroid that captures 6% of the data) suggests that group of persons to be outside of the target demographics.\n",
    "\n",
    "Take a look at the following points in this step:\n",
    "\n",
    "- Compute the proportion of data points in each cluster for the general population and the customer data. Visualizations will be useful here: both for the individual dataset proportions, but also to visualize the ratios in cluster representation between groups. Seaborn's [`countplot()`](https://seaborn.pydata.org/generated/seaborn.countplot.html) or [`barplot()`](https://seaborn.pydata.org/generated/seaborn.barplot.html) function could be handy.\n",
    "  - Recall the analysis you performed in step 1.1.3 of the project, where you separated out certain data points from the dataset if they had more than a specified threshold of missing values. If you found that this group was qualitatively different from the main bulk of the data, you should treat this as an additional data cluster in this analysis. Make sure that you account for the number of data points in this subset, for both the general population and customer datasets, when making your computations!\n",
    "- Which cluster or clusters are overrepresented in the customer dataset compared to the general population? Select at least one such cluster and infer what kind of people might be represented by that cluster. Use the principal component interpretations from step 2.3 or look at additional components to help you make this inference. Alternatively, you can use the `.inverse_transform()` method of the PCA and StandardScaler objects to transform centroids back to the original data space and interpret the retrieved values directly.\n",
    "- Perform a similar investigation for the underrepresented clusters. Which cluster or clusters are underrepresented in the customer dataset compared to the general population, and what kinds of people are typified by these clusters?"
   ]
  },
  {
   "cell_type": "code",
   "execution_count": 79,
   "metadata": {},
   "outputs": [
    {
     "name": "stdout",
     "output_type": "stream",
     "text": [
      "percentage of data points in each clusters for customers (sorted):\n",
      "[97.   2.   0.3  0.1  0.1  0.1  0.1  0.1  0.1  0.   0.   0.   0.   0.\n",
      "  0.   0.   0. ]\n",
      "[12  7 10  1  9  5 11  4 16 14 13  8  0  2  6  3 15]\n",
      "percentage of data points in each clusters for azdias (sorted):\n",
      "[9.5 9.1 9.  9.  7.1 6.8 6.7 6.4 6.4 5.7 5.1 4.7 4.6 4.4 4.3 0.8 0.4]\n",
      "[ 3  1  4  2  0 15 11  6 13  5  9 14 16  8 10 12  7]\n"
     ]
    }
   ],
   "source": [
    "# Compare the proportion of data in each cluster for the customer data to the\n",
    "# proportion of data in each cluster for the general population\n",
    "\n",
    "customers_unique, customers_cluster_count = np.unique(customers_clusters, return_counts=True)\n",
    "azdias_unique, azdias_cluster_count = np.unique(azdias_clusters, return_counts=True)\n",
    "\n",
    "customers_cluster_percentage=100*customers_cluster_count/len(customers)\n",
    "print('percentage of data points in each clusters for customers (sorted):')\n",
    "print(np.round(np.sort((customers_cluster_percentage))[::-1],decimals=1))\n",
    "print(np.argsort((customers_cluster_percentage))[::-1])\n",
    "\n",
    "azdiads_cluster_percentage=100*azdias_cluster_count/len(azdias)\n",
    "print('percentage of data points in each clusters for azdias (sorted):')\n",
    "print(np.round(np.sort((azdiad_cluster_percentage))[::-1],decimals=1))\n",
    "print(np.argsort((azdiad_cluster_percentage))[::-1])"
   ]
  },
  {
   "cell_type": "code",
   "execution_count": 96,
   "metadata": {},
   "outputs": [
    {
     "data": {
      "image/png": "[encoded data removed]",
      "text/plain": [
       "<Figure size 576x864 with 2 Axes>"
      ]
     },
     "metadata": {
      "needs_background": "light"
     },
     "output_type": "display_data"
    }
   ],
   "source": [
    "fig = plt.figure(figsize=(8,12))\n",
    "ax1 = fig.add_subplot(2,1,1)\n",
    "ax1.set_xticks(customers_unique,minor=False)\n",
    "ax1.set_xlabel('cluster number')\n",
    "ax1.set_ylabel('percentage of data in each cluster')\n",
    "ax1.title.set_text('Customers Data')\n",
    "plt.bar(customers_unique,customers_cluster_percentage,alpha=.7)\n",
    "\n",
    "\n",
    "\n",
    "ax2 = fig.add_subplot(2,1,2)\n",
    "ax2.set_xticks(azdias_unique,minor=False)\n",
    "ax2.set_xlabel('cluster number')\n",
    "ax2.set_ylabel('percentage of data in each cluster')\n",
    "ax2.title.set_text('General Data')\n",
    "\n",
    "plt.bar(azdias_unique,azdiads_cluster_percentage,alpha=.7,color='r')\n",
    "plt.show()"
   ]
  },
  {
   "cell_type": "code",
   "execution_count": 94,
   "metadata": {},
   "outputs": [
    {
     "name": "stdout",
     "output_type": "stream",
     "text": [
      "the first three coordiantes for the cluster number 12: \n"
     ]
    },
    {
     "data": {
      "text/plain": [
       "array([-0.23739021, -0.20616053,  0.01199687])"
      ]
     },
     "execution_count": 94,
     "metadata": {},
     "output_type": "execute_result"
    }
   ],
   "source": [
    "# What kinds of people are part of a cluster that is overrepresented in the\n",
    "# customer data compared to the general population?\n",
    "\n",
    "print('the first three coordiantes for the cluster number 12: ')\n",
    "kmeans.cluster_centers_[12,0:3]"
   ]
  },
  {
   "cell_type": "code",
   "execution_count": 97,
   "metadata": {},
   "outputs": [
    {
     "name": "stdout",
     "output_type": "stream",
     "text": [
      "the first three coordiantes for the cluster number 15: \n"
     ]
    },
    {
     "data": {
      "text/plain": [
       "array([ 4.4959808 , -1.29718272, -2.74462731])"
      ]
     },
     "execution_count": 97,
     "metadata": {},
     "output_type": "execute_result"
    }
   ],
   "source": [
    "# What kinds of people are part of a cluster that is underrepresented in the\n",
    "# customer data compared to the general population?\n",
    "\n",
    "print('the first three coordiantes for the cluster number 15: ')\n",
    "kmeans.cluster_centers_[15,0:3]"
   ]
  },
  {
   "cell_type": "markdown",
   "metadata": {},
   "source": [
    "### Discussion 3.3: Compare Customer Data to Demographics Data\n",
    "\n",
    "from the percentage of the data in the cluster plots above, we can see the customers data belongs almost exclusively to cluster number 12. analyzing cluster 12 in more details shows that the first and second coordinate of the cluster center is negative. referring to the analysis done in part 2.3, we can interpret these values as  segments of the population who are generally wealthy, live in fancy villas, and considered to have money spending behaviors.\n",
    "\n",
    "on the other hand, cluster number 15 is one o the most underrepresented cluster in the customer data. analyzing the coordinates of the cluster center shows that the people that belongs to it are considered generally less wealthy and less obsessed with shopping and live in multi-family houses. \n",
    "\n",
    "so the data for the customers comes from segment of the population who are wealthy and live in fancy places and who are characterized as shopping savvy"
   ]
  },
  {
   "cell_type": "markdown",
   "metadata": {},
   "source": [
    "> Congratulations on making it this far in the project! Before you finish, make sure to check through the entire notebook from top to bottom to make sure that your analysis follows a logical flow and all of your findings are documented in **Discussion** cells. Once you've checked over all of your work, you should export the notebook as an HTML document to submit for evaluation. You can do this from the menu, navigating to **File -> Download as -> HTML (.html)**. You will submit both that document and this notebook for your project submission."
   ]
  },
  {
   "cell_type": "code",
   "execution_count": null,
   "metadata": {},
   "outputs": [],
   "source": []
  }
 ],
 "metadata": {
  "kernelspec": {
   "display_name": "Python 3",
   "language": "python",
   "name": "python3"
  },
  "language_info": {
   "codemirror_mode": {
    "name": "ipython",
    "version": 3
   },
   "file_extension": ".py",
   "mimetype": "text/x-python",
   "name": "python",
   "nbconvert_exporter": "python",
   "pygments_lexer": "ipython3",
   "version": "3.7.2"
  }
 },
 "nbformat": 4,
 "nbformat_minor": 2
}
